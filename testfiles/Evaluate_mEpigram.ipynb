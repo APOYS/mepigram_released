{
 "cells": [
  {
   "cell_type": "code",
   "execution_count": 2,
   "metadata": {
    "collapsed": false
   },
   "outputs": [],
   "source": [
    "import os \n",
    "from sys import argv\n",
    "import random as rd\n",
    "from copy import deepcopy\n",
    "\n",
    "def load_motifsEF(filename):\n",
    "    file=open(filename)\n",
    "    seq=file.read().split(\"MOTIF\")\n",
    "    seq=seq[1:]\n",
    "    motifs={}\n",
    "    infos={}\n",
    "    for s in range(len(seq)):\n",
    "        t=seq[s].strip().split(\"\\n\")\n",
    "        motifs[t[0]]=t[2:]  #remove HOCOMOCO URL\n",
    "        infos[t[0].split('_')[0]]=t[:2]\n",
    "    for m in motifs:\n",
    "        tdict={'A':[],'C':[],'G':[],'T':[],'E':[],'F':[]}\n",
    "        for pos in range(len(motifs[m])):\n",
    "            tmp=motifs[m][pos].strip().split(\"\\t\")\n",
    "            tdict['A']+=[float(tmp[0])]\n",
    "            tdict['C']+=[float(tmp[1])]\n",
    "            tdict['G']+=[float(tmp[2])]\n",
    "            tdict['T']+=[float(tmp[3])]\n",
    "            tdict['E']+=[float(tmp[4])]\n",
    "            tdict['F']+=[float(tmp[5])]\n",
    "        motifs[m]=tdict\n",
    "    \n",
    "    return motifs,infos\n",
    "\n",
    "\n",
    "def load_motifs(filename):\n",
    "    file=open(filename)\n",
    "    seq=file.read().split(\"MOTIF\")\n",
    "    seq=seq[1:]\n",
    "    motifs={}\n",
    "    infos={}\n",
    "    for s in range(len(seq)):\n",
    "        t=seq[s].strip().split(\"\\n\")\n",
    "        motifs[t[0]]=t[2:-1]  #remove HOCOMOCO URL\n",
    "        infos[t[0].split('_')[0]]=t[:2]\n",
    "    for m in motifs:\n",
    "        tdict={'A':[],'C':[],'G':[],'T':[]}\n",
    "        for pos in range(len(motifs[m])):\n",
    "            tmp=motifs[m][pos].strip().split(\"\\t\")\n",
    "            tdict['A']+=[float(tmp[0])]\n",
    "            tdict['C']+=[float(tmp[1])]\n",
    "            tdict['G']+=[float(tmp[2])]\n",
    "            tdict['T']+=[float(tmp[3])]\n",
    "            #tdict['E']+=[float(tmp[4])]\n",
    "            #tdict['F']+=[float(tmp[5])]\n",
    "        motifs[m]=tdict\n",
    "    \n",
    "    return motifs,infos\n",
    "def insertBaseToPWM(pwm):\n",
    "    newpwm = deepcopy(pwm)\n",
    "    k = len(pwm['A'])\n",
    "    base = rd.choice(['E','E'])\n",
    "    loc = rd.choice(range(k))\n",
    "    freq = rd.choice(range(5,10))*0.1\n",
    "    print base,loc,freq\n",
    "    newpwm['E'] = [0]*k\n",
    "    newpwm['F'] = [0]*k\n",
    "\n",
    "    for c in newpwm.keys():\n",
    "        newpwm[c][loc] = (1-freq)/(len(newpwm.keys())-1)\n",
    "    newpwm[base][loc] = freq\n",
    "    return newpwm\n",
    "\n",
    "def randomkmer_typeEF(PWM):\n",
    "    #take a PWM and randomly create a Kmer based on it\n",
    "    # chance goes A->C->G->T->E\n",
    "    kmer=\"\"\n",
    "    for pos in range(len(PWM['A'])):\n",
    "        die=rd.randint(0,100000)\n",
    "        if die<=PWM['A'][pos]*100000:\n",
    "            kmer+='A'\n",
    "        elif die<=(PWM['A'][pos]+PWM['C'][pos])*100000:\n",
    "            kmer+='C'\n",
    "        elif die<=(PWM['A'][pos]+PWM['C'][pos]+PWM['G'][pos])*100000:\n",
    "            kmer+='G'\n",
    "        elif die<=(PWM['A'][pos]+PWM['C'][pos]+PWM['G'][pos]+PWM['T'][pos])*100000:\n",
    "            kmer+='T'\n",
    "        elif die<=(PWM['A'][pos]+PWM['C'][pos]+PWM['G'][pos]+PWM['T'][pos]+PWM['E'][pos])*100000:\n",
    "            kmer+='E'\n",
    "        else:\n",
    "            kmer+='F'\n",
    "    return kmer\n",
    "\n",
    "def loadFasta(filename):\n",
    "    seqs = {}\n",
    "    lines = open(filename).read().split('>')[1:]\n",
    "    for line in lines:\n",
    "        tmp = line.split('\\n')\n",
    "        seqs[tmp[0]] = ''.join(tmp[1:])\n",
    "    return seqs\n",
    "\n",
    "def insertoseqs(pwm,seqs,numseqtopick):\n",
    "    #numseqtopick=10\n",
    "    seqspicked = rd.sample(seqs.keys(),numseqtopick)\n",
    "    \n",
    "    \n",
    "    #print seqspicked\n",
    "    for s in seqspicked:\n",
    "        kmer = randomkmer_typeEF(pwm)\n",
    "        #print kmer\n",
    "        string = list(seqs[s])\n",
    "        insertloc = rd.randrange(0,len(string)-len(kmer))\n",
    "        #print insertloc\n",
    "        for i in xrange(len(kmer)):\n",
    "            string[insertloc + i]=kmer[i]\n",
    "    \n",
    "        seqs[s] = ''.join(string)\n",
    "    return seqs\n",
    "def printPWM(pwm,name,outfile):\n",
    "    target = open(outfile,'w')\n",
    "    target.write(\"MOTIF\\t\"+name+'\\n')\n",
    "    for loc in range(len(pwm['A'])):\n",
    "        line = []\n",
    "        for base in ['A','C','G','T','E','F']:\n",
    "            line += [str(pwm[base][loc])]\n",
    "        line = '\\t'.join(line)\n",
    "        target.write(line+'\\n')\n",
    "    target.close()\n",
    "    return\n",
    "    "
   ]
  },
  {
   "cell_type": "code",
   "execution_count": 7,
   "metadata": {
    "collapsed": false
   },
   "outputs": [
    {
     "name": "stdout",
     "output_type": "stream",
     "text": [
      "FOXL1_HUMAN.H10MO.D\n",
      "E 17 0.5\n",
      "./test_data_typeEF/CEBPB.test.typeEF.sequence.0.005.faa\n",
      "5\n",
      "./test_data_typeEF/CEBPB.test.typeEF.sequence.0.01.faa\n",
      "10\n",
      "./test_data_typeEF/CEBPB.test.typeEF.sequence.0.02.faa\n",
      "20\n",
      "./test_data_typeEF/CEBPB.test.typeEF.sequence.0.05.faa\n",
      "50\n"
     ]
    }
   ],
   "source": [
    "def main():\n",
    "    prefix = \"./test_data_typeEF/\"\n",
    "    fastafile = prefix + \"CEBPB.test.typeEF.sequence.faa\"\n",
    "    motifs,infos = load_motifs(\"HOCOMOCOv10_HUMAN_mono_meme_format.meme\")\n",
    "    mtochoose = rd.choice(motifs.keys())\n",
    "    print mtochoose\n",
    "    pwm = motifs[mtochoose]\n",
    "    #print mtochoose,pwm\n",
    "    newpwm = insertBaseToPWM(pwm)\n",
    "    printPWM(newpwm,mtochoose+\"_inserted\",prefix+mtochoose+'_inserted.typeEF.meme')\n",
    "    #print newpwm\n",
    "    \n",
    "    seqs = loadFasta(fastafile)\n",
    "    testingabundances = [0.005,0.01,0.02,0.05]\n",
    "    #len(seqs)\n",
    "    for rate in testingabundances:\n",
    "        outputseqfile = fastafile.replace('faa',str(rate)+'.faa')\n",
    "        print outputseqfile\n",
    "        target = open(outputseqfile,'w')\n",
    "        numseqtopick = int(len(seqs)*rate)\n",
    "        print numseqtopick\n",
    "        #seqstoinsert = rd.sample(seqs.keys())\n",
    "        seqs = insertoseqs(newpwm,seqs,numseqtopick)\n",
    "        for s in seqs:\n",
    "            target.write(\">\"+s+'\\n')\n",
    "            target.write(seqs[s]+'\\n')\n",
    "        target.close()\n",
    "        \n",
    "    \n",
    "    #now run mEpigram on this set\n",
    "    #ada\n",
    "    \n",
    "    #look at the results to see whether the inserted motif is in it\n",
    "    # check how many false positives\n",
    "        \n",
    "    return\n",
    "main()"
   ]
  },
  {
   "cell_type": "code",
   "execution_count": 59,
   "metadata": {
    "collapsed": false
   },
   "outputs": [],
   "source": [
    "import os\n",
    "    \n",
    "    \n",
    "    "
   ]
  },
  {
   "cell_type": "code",
   "execution_count": 47,
   "metadata": {
    "collapsed": false
   },
   "outputs": [
    {
     "name": "stdout",
     "output_type": "stream",
     "text": [
      "['chr8_56843218', 'chr7_141111087', 'chr9_1871891', 'chr22_29517169', 'chr6_158028818', 'chr19_45245180', 'chr5_96566816', 'chr2_120124291', 'chr3_16592408', 'chr16_77618159']\n",
      "AFCGGAAAA\n",
      "GEAGGAAGT\n",
      "TECGGAAGC\n",
      "AEAGGATGA\n",
      "AGCGGAAAT\n",
      "TTCGGAAGT\n",
      "GEGGGAGCT\n",
      "AEAGGATGA\n",
      "GEAGGATAA\n",
      "AEAGGAAGT\n"
     ]
    }
   ],
   "source": [
    "insertoseq(newpwm,seqs,10)"
   ]
  },
  {
   "cell_type": "code",
   "execution_count": 48,
   "metadata": {
    "collapsed": false
   },
   "outputs": [
    {
     "data": {
      "text/plain": [
       "'GTGTGAAATTAFCGGAAAAAGAGTTATGCAAATGGGGATGCGGCACGTGGTGGAGGCTTCTTGCAG'"
      ]
     },
     "execution_count": 48,
     "metadata": {},
     "output_type": "execute_result"
    }
   ],
   "source": [
    "seqs['chr8_56843218']"
   ]
  },
  {
   "cell_type": "code",
   "execution_count": 61,
   "metadata": {
    "collapsed": false
   },
   "outputs": [
    {
     "data": {
      "text/plain": [
       "256"
      ]
     },
     "execution_count": 61,
     "metadata": {},
     "output_type": "execute_result"
    }
   ],
   "source": [
    "os.system(\"python mepigram_wrapper3.py\")"
   ]
  },
  {
   "cell_type": "code",
   "execution_count": null,
   "metadata": {
    "collapsed": true
   },
   "outputs": [],
   "source": []
  }
 ],
 "metadata": {
  "kernelspec": {
   "display_name": "Python 2",
   "language": "python",
   "name": "python2"
  },
  "language_info": {
   "codemirror_mode": {
    "name": "ipython",
    "version": 2
   },
   "file_extension": ".py",
   "mimetype": "text/x-python",
   "name": "python",
   "nbconvert_exporter": "python",
   "pygments_lexer": "ipython2",
   "version": "2.7.12"
  }
 },
 "nbformat": 4,
 "nbformat_minor": 2
}
