{
 "cells": [
  {
   "cell_type": "markdown",
   "metadata": {},
   "source": [
    "### Simulation\n",
    "\n",
    "* make 4 sets of sequences: 250 seq , 1000 seqs, 5000 seqs, each 250 bp (meme takes 60000 only)\n",
    "    * Use random generator with real frequencies\n",
    "* Insert real motifs but have been modified to have mC.\n",
    "    * CEBPB , NRF1, SP1, CTCF, made up motif\n",
    "* Different abundances: 1%, 2%, 5%, 10%, 25% of peaks\n",
    "    "
   ]
  },
  {
   "cell_type": "code",
   "execution_count": 1,
   "metadata": {
    "collapsed": true
   },
   "outputs": [],
   "source": [
    "abundances = [0.01,0.02,0.05,0.1,0.25]\n",
    "sizes = [250, 1000, 5000]\n",
    "seq_length_avg = 250\n",
    "seq_length_std = 50\n",
    "\n",
    "\n"
   ]
  },
  {
   "cell_type": "code",
   "execution_count": 67,
   "metadata": {
    "collapsed": true
   },
   "outputs": [],
   "source": [
    "import os \n",
    "from sys import argv\n",
    "import random as rd\n",
    "from copy import deepcopy\n",
    "\n",
    "def load_motifsEF(filename):\n",
    "    file=open(filename)\n",
    "    seq=file.read().split(\"MOTIF\")\n",
    "    seq=seq[1:]\n",
    "    motifs={}\n",
    "    infos={}\n",
    "    for s in range(len(seq)):\n",
    "        t=seq[s].strip().split(\"\\n\")\n",
    "        motifs[t[0]]=t[2:]  #remove HOCOMOCO URL\n",
    "        infos[t[0].split('_')[0]]=t[:2]\n",
    "    for m in motifs:\n",
    "        tdict={'A':[],'C':[],'G':[],'T':[],'E':[],'F':[]}\n",
    "        for pos in range(len(motifs[m])):\n",
    "            tmp=motifs[m][pos].strip().split(\"\\t\")\n",
    "            tdict['A']+=[float(tmp[0])]\n",
    "            tdict['C']+=[float(tmp[1])]\n",
    "            tdict['G']+=[float(tmp[2])]\n",
    "            tdict['T']+=[float(tmp[3])]\n",
    "            tdict['E']+=[float(tmp[4])]\n",
    "            tdict['F']+=[float(tmp[5])]\n",
    "        motifs[m]=tdict\n",
    "    \n",
    "    return motifs,infos\n",
    "\n",
    "\n",
    "def load_motifs(filename):\n",
    "    file=open(filename)\n",
    "    seq=file.read().split(\"MOTIF\")\n",
    "    seq=seq[1:]\n",
    "    motifs={}\n",
    "    infos={}\n",
    "    for s in range(len(seq)):\n",
    "        t=seq[s].strip().split(\"\\n\")\n",
    "        motifs[t[0]]=t[2:-1]  #remove HOCOMOCO URL\n",
    "        infos[t[0].split('_')[0]]=t[:2]\n",
    "    for m in motifs:\n",
    "        tdict={'A':[],'C':[],'G':[],'T':[]}\n",
    "        for pos in range(len(motifs[m])):\n",
    "            tmp=motifs[m][pos].strip().split(\"\\t\")\n",
    "            tdict['A']+=[float(tmp[0])]\n",
    "            tdict['C']+=[float(tmp[1])]\n",
    "            tdict['G']+=[float(tmp[2])]\n",
    "            tdict['T']+=[float(tmp[3])]\n",
    "            #tdict['E']+=[float(tmp[4])]\n",
    "            #tdict['F']+=[float(tmp[5])]\n",
    "        motifs[m]=tdict\n",
    "    \n",
    "    return motifs,infos\n",
    "def insertBaseToPWM(pwm,loc,prop):\n",
    "    #randomly insert modified bases to an existing pwm\n",
    "    #insert at loc location, probability is prop\n",
    "    newpwm = deepcopy(pwm)\n",
    "    k = len(pwm['A'])\n",
    "    base = rd.choice(['E','E']) # only adds E, for this is typeE\n",
    "    freq = prop #rd.choice(range(5,10))*0.1 #prop 0.5 - 1.0\n",
    "    print base,loc,freq\n",
    "    newpwm['E'] = [0]*k #add other empty columns to the matrix\n",
    "    newpwm['F'] = [0]*k\n",
    "\n",
    "    for c in newpwm.keys():\n",
    "        newpwm[c][loc] = (1-freq)/(len(newpwm.keys())-1)\n",
    "    newpwm[base][loc] = freq\n",
    "    return newpwm\n",
    "\n",
    "def randomkmer_typeEF(PWM):\n",
    "    #take a PWM and randomly create a Kmer based on it\n",
    "    # chance goes A->C->G->T->E\n",
    "    kmer=\"\"\n",
    "    for pos in range(len(PWM['A'])):\n",
    "        die=rd.randint(0,100000)\n",
    "        if die<=PWM['A'][pos]*100000:\n",
    "            kmer+='A'\n",
    "        elif die<=(PWM['A'][pos]+PWM['C'][pos])*100000:\n",
    "            kmer+='C'\n",
    "        elif die<=(PWM['A'][pos]+PWM['C'][pos]+PWM['G'][pos])*100000:\n",
    "            kmer+='G'\n",
    "        elif die<=(PWM['A'][pos]+PWM['C'][pos]+PWM['G'][pos]+PWM['T'][pos])*100000:\n",
    "            kmer+='T'\n",
    "        elif die<=(PWM['A'][pos]+PWM['C'][pos]+PWM['G'][pos]+PWM['T'][pos]+PWM['E'][pos])*100000:\n",
    "            kmer+='E'\n",
    "        else:\n",
    "            kmer+='F'\n",
    "    return kmer\n",
    "\n",
    "def loadFasta(filename):\n",
    "    seqs = {}\n",
    "    lines = open(filename).read().split('>')[1:]\n",
    "    for line in lines:\n",
    "        tmp = line.split('\\n')\n",
    "        seqs[tmp[0]] = ''.join(tmp[1:])\n",
    "    return seqs\n",
    "\n",
    "def insertoseqs(pwm,seqs,numseqtopick):\n",
    "    #take pwm, the seqs, and insert the pwm to numseqtopick of the seqs \n",
    "    \n",
    "    seqspicked = rd.sample(seqs.keys(),numseqtopick)\n",
    "    #print seqspicked\n",
    "    for s in seqspicked:\n",
    "        kmer = randomkmer_typeEF(pwm)\n",
    "        #print kmer\n",
    "        string = list(seqs[s])\n",
    "        insertloc = rd.randrange(0,len(string)-len(kmer))\n",
    "        #print insertloc\n",
    "        for i in xrange(len(kmer)):\n",
    "            string[insertloc + i]=kmer[i]\n",
    "    \n",
    "        seqs[s] = ''.join(string)\n",
    "    return seqs\n",
    "def printPWM(pwm,name,outfile):\n",
    "    target = open(outfile,'w')\n",
    "    target.write(\"MOTIF\\t\"+name+'\\n')\n",
    "    for loc in range(len(pwm['A'])):\n",
    "        line = []\n",
    "        for base in ['A','C','G','T','E','F']:\n",
    "            line += [str(pwm[base][loc])]\n",
    "        line = '\\t'.join(line)\n",
    "        target.write(line+'\\n')\n",
    "    target.close()\n",
    "    return\n",
    "def getConsensus(pwm):\n",
    "    #take the dict pwm and print the consensus of the pwm\n",
    "    cnss = '' \n",
    "    for loc in range(len(pwm['A'])):\n",
    "        maxbase = 'A'\n",
    "        maxvalue = 0.0\n",
    "        for base in pwm:\n",
    "            if pwm[base][loc] > maxvalue:\n",
    "                maxbase = base\n",
    "                maxvalue = pwm[base][loc]\n",
    "        cnss += maxbase\n",
    "    return cnss"
   ]
  },
  {
   "cell_type": "code",
   "execution_count": 59,
   "metadata": {
    "collapsed": true
   },
   "outputs": [],
   "source": [
    "knownMotifs,knownInfos = load_motifs(\"HOCOMOCOv11_core_HUMAN_mono_meme_format.meme\")"
   ]
  },
  {
   "cell_type": "code",
   "execution_count": 68,
   "metadata": {
    "collapsed": false,
    "scrolled": false
   },
   "outputs": [
    {
     "name": "stdout",
     "output_type": "stream",
     "text": [
      "CTCF_HUMAN.H11MO.0.A\n",
      "TGGCCACCAGGGGGCGCCA\n",
      "CEBPB_HUMAN.H11MO.0.A\n",
      "GATTGTGCAATA\n",
      "NRF1_HUMAN.H11MO.0.A\n",
      "CACTGCGCATGCGCAGG\n"
     ]
    }
   ],
   "source": [
    "mymotifs = \n",
    "for key in knownMotifs:\n",
    "    if \"CTCF_\" in key or \"CEBPB\" in key or \"NRF1\" in key:\n",
    "        print key\n",
    "        #print knownMotifs[key]\n",
    "        print getConsensus(knownMotifs[key])\n",
    "        \n"
   ]
  },
  {
   "cell_type": "code",
   "execution_count": null,
   "metadata": {
    "collapsed": true
   },
   "outputs": [],
   "source": []
  }
 ],
 "metadata": {
  "kernelspec": {
   "display_name": "Python 2",
   "language": "python",
   "name": "python2"
  },
  "language_info": {
   "codemirror_mode": {
    "name": "ipython",
    "version": 2
   },
   "file_extension": ".py",
   "mimetype": "text/x-python",
   "name": "python",
   "nbconvert_exporter": "python",
   "pygments_lexer": "ipython2",
   "version": "2.7.12"
  }
 },
 "nbformat": 4,
 "nbformat_minor": 2
}
