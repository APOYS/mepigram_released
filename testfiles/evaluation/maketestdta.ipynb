{
 "cells": [
  {
   "cell_type": "code",
   "execution_count": 24,
   "metadata": {
    "collapsed": true
   },
   "outputs": [],
   "source": [
    "def readFASTA(faafile):\n",
    "    lines=open(faafile).read().split()\n",
    "    seq=[]\n",
    "    for line in lines:\n",
    "        if \">\" not in line:\n",
    "            seq+=[line.strip()]\n",
    "    seq=''.join(seq)\n",
    "\n",
    "    return seq\n",
    "    \n"
   ]
  },
  {
   "cell_type": "code",
   "execution_count": 25,
   "metadata": {
    "collapsed": true
   },
   "outputs": [],
   "source": [
    "import random as rd"
   ]
  },
  {
   "cell_type": "code",
   "execution_count": 26,
   "metadata": {
    "collapsed": false
   },
   "outputs": [
    {
     "name": "stdout",
     "output_type": "stream",
     "text": [
      "154478 366924\n"
     ]
    }
   ],
   "source": [
    "chr1=readFASTA(\"testfiles/samplegenome/chr1\")\n",
    "chr2=readFASTA(\"testfiles/samplegenome/chr2\")\n",
    "print len(chr1),len(chr2)"
   ]
  },
  {
   "cell_type": "code",
   "execution_count": 27,
   "metadata": {
    "collapsed": false
   },
   "outputs": [],
   "source": [
    "CGlocs= []\n",
    "for i in range(len(chr1)-1):\n",
    "    if chr1[i].upper() == \"C\" and chr1[i+1].upper()==\"G\":\n",
    "        CGlocs+=[['chr1',i]]\n",
    "        CGlocs+=[['chr1',i+1]]\n",
    "for i in range(len(chr2)-1):\n",
    "    if chr2[i].upper() == \"C\" and chr2[i+1].upper()==\"G\":\n",
    "        CGlocs+=[['chr2',i]]\n",
    "        CGlocs+=[['chr2',i+1]]"
   ]
  },
  {
   "cell_type": "code",
   "execution_count": 28,
   "metadata": {
    "collapsed": false
   },
   "outputs": [
    {
     "data": {
      "text/plain": [
       "36672"
      ]
     },
     "execution_count": 28,
     "metadata": {},
     "output_type": "execute_result"
    }
   ],
   "source": [
    "len(CGlocs)"
   ]
  },
  {
   "cell_type": "code",
   "execution_count": 29,
   "metadata": {
    "collapsed": false
   },
   "outputs": [],
   "source": [
    "#makebedgraph\n",
    "target=open(\"testfiles/test.mCInput.bedgraph\",'w')\n",
    "for loc in CGlocs:\n",
    "    line = loc[0]+'\\t'+str(loc[1])+'\\t'+str(loc[1]+1)+'\\t'+str(rd.random())\n",
    "    #print line\n",
    "    target.write(line+'\\n')\n",
    "target.close()"
   ]
  },
  {
   "cell_type": "code",
   "execution_count": 14,
   "metadata": {
    "collapsed": false
   },
   "outputs": [
    {
     "data": {
      "text/plain": [
       "0.46280862434397996"
      ]
     },
     "execution_count": 14,
     "metadata": {},
     "output_type": "execute_result"
    }
   ],
   "source": [
    "rd.random()"
   ]
  },
  {
   "cell_type": "code",
   "execution_count": 21,
   "metadata": {
    "collapsed": true
   },
   "outputs": [],
   "source": [
    "#make bed peak regions:\n",
    "peaks = []\n",
    "for i in range(1000):\n",
    "    s = rd.choice(range(len(chr1)-400))\n",
    "    e = s + 300\n",
    "    peaks += [['chr1',s,e]]\n",
    "for i in range(1000):\n",
    "    s = rd.choice(range(len(chr2)-400))\n",
    "    e = s + 300\n",
    "    peaks += [['chr2',s,e]]\n",
    "\n",
    "        "
   ]
  },
  {
   "cell_type": "code",
   "execution_count": 23,
   "metadata": {
    "collapsed": false
   },
   "outputs": [],
   "source": [
    "target=open(\"testfiles/test.regions.bed\",'w')\n",
    "for loc in peaks:\n",
    "    line = loc[0]+'\\t'+str(loc[1])+'\\t'+str(loc[2])\n",
    "    #print line\n",
    "    target.write(line+'\\n')\n",
    "target.close()"
   ]
  },
  {
   "cell_type": "code",
   "execution_count": null,
   "metadata": {
    "collapsed": true
   },
   "outputs": [],
   "source": []
  }
 ],
 "metadata": {
  "kernelspec": {
   "display_name": "Python 2",
   "language": "python",
   "name": "python2"
  },
  "language_info": {
   "codemirror_mode": {
    "name": "ipython",
    "version": 2
   },
   "file_extension": ".py",
   "mimetype": "text/x-python",
   "name": "python",
   "nbconvert_exporter": "python",
   "pygments_lexer": "ipython2",
   "version": "2.7.13"
  }
 },
 "nbformat": 4,
 "nbformat_minor": 2
}
