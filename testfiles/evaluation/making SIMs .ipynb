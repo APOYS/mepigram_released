{
 "cells": [
  {
   "cell_type": "markdown",
   "metadata": {},
   "source": [
    "### Simulation\n",
    "\n",
    "* make 4 sets of sequences: 250 seq , 1000 seqs, 5000 seqs, each 250 bp (meme takes 60000 only)\n",
    "    * Use random generator with real frequencies\n",
    "* Insert real motifs but have been modified to have mC.\n",
    "    * CEBPB , NRF1, SP1, CTCF, made up motif\n",
    "* Different abundances: 1%, 2%, 5%, 10%, 25% of peaks\n",
    "    "
   ]
  },
  {
   "cell_type": "code",
   "execution_count": 19,
   "metadata": {
    "collapsed": true
   },
   "outputs": [],
   "source": [
    "%matplotlib inline\n",
    "\n",
    "import matplotlib\n",
    "import numpy as np\n",
    "import matplotlib.pyplot as plt"
   ]
  },
  {
   "cell_type": "code",
   "execution_count": 100,
   "metadata": {
    "collapsed": true
   },
   "outputs": [],
   "source": [
    "import os \n",
    "from sys import argv\n",
    "import random as rd\n",
    "from copy import deepcopy\n",
    "\n",
    "def load_motifsEF(filename):\n",
    "    file=open(filename)\n",
    "    seq=file.read().split(\"MOTIF\")\n",
    "    seq=seq[1:]\n",
    "    motifs={}\n",
    "    infos={}\n",
    "    for s in range(len(seq)):\n",
    "        t=seq[s].strip().split(\"\\n\")\n",
    "        motifs[t[0]]=t[2:]  #remove HOCOMOCO URL\n",
    "        infos[t[0].split('_')[0]]=t[:2]\n",
    "    for m in motifs:\n",
    "        tdict={'A':[],'C':[],'G':[],'T':[],'E':[],'F':[]}\n",
    "        for pos in range(len(motifs[m])):\n",
    "            tmp=motifs[m][pos].strip().split(\"\\t\")\n",
    "            tdict['A']+=[float(tmp[0])]\n",
    "            tdict['C']+=[float(tmp[1])]\n",
    "            tdict['G']+=[float(tmp[2])]\n",
    "            tdict['T']+=[float(tmp[3])]\n",
    "            tdict['E']+=[float(tmp[4])]\n",
    "            tdict['F']+=[float(tmp[5])]\n",
    "        motifs[m]=tdict\n",
    "    \n",
    "    return motifs,infos\n",
    "\n",
    "\n",
    "def load_motifs(filename):\n",
    "    file=open(filename)\n",
    "    seq=file.read().split(\"MOTIF\")\n",
    "    seq=seq[1:]\n",
    "    motifs={}\n",
    "    infos={}\n",
    "    for s in range(len(seq)):\n",
    "        t=seq[s].strip().split(\"\\n\")\n",
    "        motifs[t[0]]=t[2:-1]  #remove HOCOMOCO URL\n",
    "        infos[t[0].split('_')[0]]=t[:2]\n",
    "    for m in motifs:\n",
    "        tdict={'A':[],'C':[],'G':[],'T':[]}\n",
    "        for pos in range(len(motifs[m])):\n",
    "            tmp=motifs[m][pos].strip().split(\"\\t\")\n",
    "            tdict['A']+=[float(tmp[0])]\n",
    "            tdict['C']+=[float(tmp[1])]\n",
    "            tdict['G']+=[float(tmp[2])]\n",
    "            tdict['T']+=[float(tmp[3])]\n",
    "            #tdict['E']+=[float(tmp[4])]\n",
    "            #tdict['F']+=[float(tmp[5])]\n",
    "        motifs[m]=tdict\n",
    "    \n",
    "    return motifs,infos\n",
    "def insertBaseToPWM(pwm,loc,prop):\n",
    "    #randomly insert modified bases to an existing pwm\n",
    "    #insert at loc location, probability is prop\n",
    "    newpwm = deepcopy(pwm)\n",
    "    k = len(pwm['A'])\n",
    "    base = rd.choice(['E','E']) # only adds E, for this is typeE\n",
    "    freq = prop #rd.choice(range(5,10))*0.1 #prop 0.5 - 1.0\n",
    "    print base,loc,freq\n",
    "    newpwm['E'] = [0]*k #add other empty columns to the matrix\n",
    "    newpwm['F'] = [0]*k\n",
    "\n",
    "    for c in newpwm.keys():\n",
    "        newpwm[c][loc] = (1-freq)/(len(newpwm.keys())-1)\n",
    "    newpwm[base][loc] = freq\n",
    "    return newpwm\n",
    "\n",
    "def insertBaseToPWM_typeE(pwm,loc,props):\n",
    "    #randomly insert modified bases to an existing pwm\n",
    "    #insert at loc location, probability is prop\n",
    "    newpwm = deepcopy(pwm)\n",
    "    k = len(pwm['A'])\n",
    "    if 'E' not in newpwm:\n",
    "        newpwm['E'] = [0]*k #add another empty column to the matrix\n",
    "\n",
    "    for c in newpwm.keys():\n",
    "        newpwm[c][loc] = props[c]\n",
    "    return newpwm\n",
    "\n",
    "def randomkmer_typeEF(PWM):\n",
    "    #take a PWM and randomly create a Kmer based on it\n",
    "    # chance goes A->C->G->T->E->F\n",
    "    kmer=\"\"\n",
    "    for pos in range(len(PWM['A'])):\n",
    "        die=rd.randint(0,100000)\n",
    "        if die<=PWM['A'][pos]*100000:\n",
    "            kmer+='A'\n",
    "        elif die<=(PWM['A'][pos]+PWM['C'][pos])*100000:\n",
    "            kmer+='C'\n",
    "        elif die<=(PWM['A'][pos]+PWM['C'][pos]+PWM['G'][pos])*100000:\n",
    "            kmer+='G'\n",
    "        elif die<=(PWM['A'][pos]+PWM['C'][pos]+PWM['G'][pos]+PWM['T'][pos])*100000:\n",
    "            kmer+='T'\n",
    "        elif die<=(PWM['A'][pos]+PWM['C'][pos]+PWM['G'][pos]+PWM['T'][pos]+PWM['E'][pos])*100000:\n",
    "            kmer+='E'\n",
    "        else:\n",
    "            kmer+='F'\n",
    "    return kmer\n",
    "\n",
    "def loadFasta(filename):\n",
    "    seqs = {}\n",
    "    lines = open(filename).read().split('>')[1:]\n",
    "    for line in lines:\n",
    "        tmp = line.split('\\n')\n",
    "        seqs[tmp[0]] = ''.join(tmp[1:])\n",
    "    return seqs\n",
    "\n",
    "def insertoseqs(pwm,seqs,numseqtopick):\n",
    "    #take pwm, the seqs, and insert the pwm to numseqtopick of the seqs \n",
    "    \n",
    "    seqspicked = rd.sample(seqs.keys(),numseqtopick)\n",
    "    #print seqspicked\n",
    "    for s in seqspicked:\n",
    "        kmer = randomkmer_typeEF(pwm)\n",
    "        #print kmer\n",
    "        string = list(seqs[s])\n",
    "        insertloc = rd.randrange(0,len(string)-len(kmer))\n",
    "        #print insertloc\n",
    "        for i in xrange(len(kmer)):\n",
    "            string[insertloc + i]=kmer[i]\n",
    "    \n",
    "        seqs[s] = ''.join(string)\n",
    "    return seqs\n",
    "def writeoutPWM(pwm,name,outfile):\n",
    "    target = open(outfile,'w')\n",
    "    target.write(\"MOTIF\\t\"+name+'\\n')\n",
    "    for loc in range(len(pwm['A'])):\n",
    "        line = []\n",
    "        for base in ['A','C','G','T','E','F']:\n",
    "            if base not in pwm: continue\n",
    "            line += [str(pwm[base][loc])]\n",
    "        line = '\\t'.join(line)\n",
    "        target.write(line+'\\n')\n",
    "    target.close()\n",
    "    return\n",
    "def printPWM(pwm):\n",
    "    print '\\t'.join(['A','C','G','T','E','F'])\n",
    "    for loc in range(len(pwm['A'])):\n",
    "        line = []\n",
    "        for base in ['A','C','G','T','E','F']:\n",
    "            if base in pwm:\n",
    "                line += [str(round(pwm[base][loc],3))]\n",
    "        print '\\t'.join(line)\n",
    "    return\n",
    "def getConsensus(pwm):\n",
    "    #take the dict pwm and print the consensus of the pwm\n",
    "    cnss = '' \n",
    "    for loc in range(len(pwm['A'])):\n",
    "        maxbase = 'A'\n",
    "        maxvalue = 0.0\n",
    "        for base in pwm:\n",
    "            if pwm[base][loc] > maxvalue:\n",
    "                maxbase = base\n",
    "                maxvalue = pwm[base][loc]\n",
    "        cnss += maxbase\n",
    "    return cnss\n",
    "\n",
    "def loadMEMEfile(filename):\n",
    "    file=open(filename)\n",
    "    seq=file.read().split(\"MOTIF\")\n",
    "    seq=seq[1:]\n",
    "    motifs={}\n",
    "    infos={}\n",
    "    for s in range(len(seq)):\n",
    "        t=seq[s].strip().split(\"\\n\")\n",
    "        name=t[0].strip()\n",
    "        motifs[name]=t[2:]\n",
    "        infos[name]=t[0:2]\n",
    "    for m in motifs:\n",
    "        tdict={'A':[],'C':[],'G':[],'T':[]}\n",
    "        for pos in range(len(motifs[m])):\n",
    "            tmp=motifs[m][pos].strip().split(\"\\t\")\n",
    "            #if len(tmp)!=6:\n",
    "                #print \"ERROR: Motif matrix does not contain 6 collumn. It is not typeEF.\" \n",
    "                #sys.exit(1)\n",
    "            tdict['A']+=[float(tmp[0])]\n",
    "            tdict['C']+=[float(tmp[1])]\n",
    "            tdict['G']+=[float(tmp[2])]\n",
    "            tdict['T']+=[float(tmp[3])]\n",
    "            #tdict['E']+=[float(tmp[4])]\n",
    "            #tdict['F']+=[float(tmp[5])]\n",
    "        motifs[m]=tdict\n",
    "    \n",
    "    return motifs,infos\n"
   ]
  },
  {
   "cell_type": "code",
   "execution_count": 65,
   "metadata": {
    "collapsed": false
   },
   "outputs": [],
   "source": [
    "import math\n",
    "import numpy as np\n",
    "knownMotifs,knownInfos = load_motifs(\"HOCOMOCOv11_core_HUMAN_mono_meme_format.meme\")\n",
    "\n",
    "def L2mean(array):\n",
    "    \"return L2 mean\"\n",
    "    l2mean = 0\n",
    "    for i in array:\n",
    "        l2mean += i**2\n",
    "    return (l2mean**0.5)/len(array)\n",
    "\n",
    "def calcAvgIC_v2(pwm):\n",
    "    \"\"\"Calculates the average info content of each pwm\"\"\"\n",
    "    #bases = ['A', 'C', 'G', 'T']\n",
    "    bases = pwm.keys()\n",
    "    k = len(pwm['A'])\n",
    "    ICs = [] \n",
    "    for pos in range(k):\n",
    "        ic = 0\n",
    "        for char in bases:\n",
    "            if pwm[char][pos]!=0.0:\n",
    "                ic += -pwm[char][pos]*math.log(pwm[char][pos],2)\n",
    "            else:\n",
    "                ic += 0.0\n",
    "        #print pos, ic\n",
    "        ICs += [2 - ic]\n",
    "            \n",
    "    #print ICs\n",
    "    return L2mean(ICs),np.var(ICs)\n",
    "\n",
    "\n",
    "\n",
    "ICdistro = []\n",
    "lengdistro = []\n",
    "for motif in knownMotifs:\n",
    "    ic,var = calcAvgIC_v2(knownMotifs[motif])\n",
    "    ICdistro += [ic]\n",
    "    \n",
    "\n",
    "    "
   ]
  },
  {
   "cell_type": "code",
   "execution_count": 66,
   "metadata": {
    "collapsed": false
   },
   "outputs": [
    {
     "name": "stdout",
     "output_type": "stream",
     "text": [
      "0.211344880007 0.30792917321 0.404513466413\n"
     ]
    }
   ],
   "source": [
    "mean = np.mean(ICdistro)\n",
    "std = np.std(ICdistro)\n",
    "print mean -std, mean, mean + std"
   ]
  },
  {
   "cell_type": "code",
   "execution_count": 67,
   "metadata": {
    "collapsed": false
   },
   "outputs": [
    {
     "name": "stdout",
     "output_type": "stream",
     "text": [
      "(array([35, 69, 78, 93, 52, 41, 28,  1,  2,  3]), array([ 0.12667449,  0.18085767,  0.23504085,  0.28922403,  0.34340721,\n",
      "        0.39759039,  0.45177358,  0.50595676,  0.56013994,  0.61432312,\n",
      "        0.6685063 ]))\n"
     ]
    },
    {
     "data": {
      "text/plain": [
       "(array([ 13.,  22.,  29.,  40.,  35.,  43.,  58.,  35.,  27.,  25.,  15.,\n",
       "         26.,  14.,  14.,   1.,   0.,   0.,   2.,   2.,   1.]),\n",
       " array([ 0.12667449,  0.15376608,  0.18085767,  0.20794926,  0.23504085,\n",
       "         0.26213244,  0.28922403,  0.31631562,  0.34340721,  0.3704988 ,\n",
       "         0.39759039,  0.42468198,  0.45177358,  0.47886517,  0.50595676,\n",
       "         0.53304835,  0.56013994,  0.58723153,  0.61432312,  0.64141471,\n",
       "         0.6685063 ]),\n",
       " <a list of 20 Patch objects>)"
      ]
     },
     "execution_count": 67,
     "metadata": {},
     "output_type": "execute_result"
    },
    {
     "data": {
      "image/png": "[encoded data removed]",
      "text/plain": [
       "<matplotlib.figure.Figure at 0x106d867d0>"
      ]
     },
     "metadata": {},
     "output_type": "display_data"
    }
   ],
   "source": [
    "print np.histogram(ICdistro)\n",
    "plt.hist(ICdistro,bins=20)\n"
   ]
  },
  {
   "cell_type": "code",
   "execution_count": 54,
   "metadata": {
    "collapsed": false
   },
   "outputs": [
    {
     "name": "stdout",
     "output_type": "stream",
     "text": [
      "CEBPB 0.377061378644\n",
      "gataEGca 0.471347884579\n",
      "CTCF 0.255179254826\n",
      "NRF1 0.286586239187\n"
     ]
    }
   ],
   "source": [
    "for motif in mymotifs:\n",
    "    print motif,calcAvgIC_v2(mymotifs[motif])"
   ]
  },
  {
   "cell_type": "markdown",
   "metadata": {},
   "source": [
    "### Choose some known motifs based on IC\n",
    "* One of average: use CEBPB/ or CTCF\n",
    "* One of 1 std up: IC ~ 1.2\n",
    "* One of 1 std down: IC ~ 0.7"
   ]
  },
  {
   "cell_type": "code",
   "execution_count": 84,
   "metadata": {
    "collapsed": false,
    "scrolled": false
   },
   "outputs": [
    {
     "name": "stdout",
     "output_type": "stream",
     "text": [
      "0.211344880007\n",
      "TBX21_HUMAN.H11MO.0.A 0.215160289739 GTGGAGGTGTGAA\n",
      "SMAD3_HUMAN.H11MO.0.B 0.220260735647 CTCTGTCACCTG\n",
      "----------------------------------------------------------------------------------------------------\n",
      "0.30792917321\n",
      "ALX1_HUMAN.H11MO.0.B 0.303776420252 ATAATTGAATTA\n",
      "PBX1_HUMAN.H11MO.0.A 0.307520129132 TGATTGACAG\n",
      "----------------------------------------------------------------------------------------------------\n",
      "0.404513466413\n",
      "BHE40_HUMAN.H11MO.0.A 0.395903904888 GGCACGTGAC\n",
      "FOXJ3_HUMAN.H11MO.0.A 0.396598405504 TTGTTTATTTTTT\n",
      "RXRG_HUMAN.H11MO.0.B 0.411977476144 GGTCAAAGGTCAC\n"
     ]
    }
   ],
   "source": [
    "len_min = 9 # has to be at least this long \n",
    "len_max = 15 \n",
    "\n",
    "low = 0.711\n",
    "med = 0.948\n",
    "high = 1.186\n",
    "\n",
    "#L2 \n",
    "low = 0.211344880007  \n",
    "med = 0.30792917321\n",
    "high = 0.404513466413\n",
    "\n",
    "\n",
    "ICdict = {}\n",
    "icfind = low\n",
    "print icfind\n",
    "for motif in knownMotifs:\n",
    "    ic,var = calcAvgIC_v2(knownMotifs[motif])\n",
    "    ICdict[motif] = ic\n",
    "    #print ic\n",
    "    if icfind - 0.010 < ic < icfind +0.010  and var < 0.3:\n",
    "        length = len(knownMotifs[motif]['A'])\n",
    "        if length > len_min and length < len_max:\n",
    "            print motif, ic, getConsensus(knownMotifs[motif])\n",
    "\n",
    "print \"-\"*100\n",
    "icfind = med\n",
    "print icfind\n",
    "for motif in knownMotifs:\n",
    "    ic,var = calcAvgIC_v2(knownMotifs[motif])\n",
    "    #print ic\n",
    "    if icfind - 0.010 < ic < icfind +0.010 and var < 0.2:\n",
    "        length = len(knownMotifs[motif]['A'])\n",
    "        if length > len_min and length < len_max:\n",
    "            print motif, ic, getConsensus(knownMotifs[motif])\n",
    "            \n",
    "print \"-\"*100\n",
    "icfind = high\n",
    "print icfind\n",
    "for motif in knownMotifs:\n",
    "    ic,var= calcAvgIC_v2(knownMotifs[motif])\n",
    "    #print ic\n",
    "    if icfind - 0.010 < ic < icfind +0.010 and var < 0.4:\n",
    "        length = len(knownMotifs[motif]['A'])\n",
    "        if length > len_min and length < len_max:\n",
    "            print motif, ic, getConsensus(knownMotifs[motif])"
   ]
  },
  {
   "cell_type": "markdown",
   "metadata": {},
   "source": [
    "### The ones to use:\n",
    "* High: BHE40    BHE40_HUMAN.H11MO.0.A 0.395903904888 GGCACGTGAC\n",
    "* Med: PBX1    PBX1_HUMAN.H11MO.0.A 0.307520129132 TGATTGACAG\n",
    "* Low: SMAD3    SMAD3_HUMAN.H11MO.0.B 0.220260735647 CTCTGTCACCTG\n",
    "\n",
    "    "
   ]
  },
  {
   "cell_type": "code",
   "execution_count": 70,
   "metadata": {
    "collapsed": false,
    "scrolled": false
   },
   "outputs": [
    {
     "name": "stdout",
     "output_type": "stream",
     "text": [
      "NANOG_HUMAN.H11MO.0.A (0.19982330946564983, 0.17603253497876595)\n",
      "JUN_HUMAN.H11MO.0.A (0.41477205748396456, 0.49113802267636686)\n",
      "CREB1_HUMAN.H11MO.0.A (0.3451191864433519, 0.40033064395519607)\n"
     ]
    }
   ],
   "source": [
    "for key in knownMotifs:\n",
    "    if \"JUN_\" in key or \"CREB1\" in key or \"NANOG\" in key:\n",
    "        print key,calcAvgIC_v2(knownMotifs[key])"
   ]
  },
  {
   "cell_type": "code",
   "execution_count": 85,
   "metadata": {
    "collapsed": false
   },
   "outputs": [
    {
     "name": "stdout",
     "output_type": "stream",
     "text": [
      "SMAD3_HUMAN.H11MO.0.B\n",
      "A\tC\tG\tT\tE\tF\n",
      "0.164\t0.364\t0.314\t0.158\n",
      "0.11\t0.272\t0.168\t0.45\n",
      "0.064\t0.696\t0.06\t0.18\n",
      "0.216\t0.004\t0.014\t0.766\n",
      "0.07\t0.294\t0.554\t0.082\n",
      "0.212\t0.312\t0.106\t0.37\n",
      "0.038\t0.87\t0.008\t0.084\n",
      "0.466\t0.118\t0.022\t0.394\n",
      "0.008\t0.566\t0.332\t0.094\n",
      "0.032\t0.912\t0.014\t0.042\n",
      "0.352\t0.056\t0.004\t0.588\n",
      "0.072\t0.272\t0.494\t0.162\n",
      "PBX1_HUMAN.H11MO.0.A\n",
      "A\tC\tG\tT\tE\tF\n",
      "0.21\t0.088\t0.202\t0.5\n",
      "0.064\t0.09\t0.834\t0.012\n",
      "0.868\t0.054\t0.024\t0.054\n",
      "0.042\t0.266\t0.34\t0.352\n",
      "0.072\t0.076\t0.172\t0.68\n",
      "0.038\t0.012\t0.944\t0.006\n",
      "0.684\t0.002\t0.306\t0.008\n",
      "0.036\t0.858\t0.022\t0.084\n",
      "0.684\t0.022\t0.228\t0.066\n",
      "0.108\t0.102\t0.686\t0.104\n",
      "BHE40_HUMAN.H11MO.0.A\n",
      "A\tC\tG\tT\tE\tF\n",
      "0.346\t0.084\t0.37\t0.2\n",
      "0.17\t0.014\t0.628\t0.188\n",
      "0.098\t0.898\t0.002\t0.002\n",
      "0.944\t0.012\t0.016\t0.028\n",
      "0.008\t0.93\t0.016\t0.046\n",
      "0.052\t0.042\t0.9\t0.006\n",
      "0.046\t0.014\t0.046\t0.894\n",
      "0.002\t0.0\t0.998\t0.0\n",
      "0.584\t0.234\t0.116\t0.066\n",
      "0.092\t0.458\t0.38\t0.07\n"
     ]
    }
   ],
   "source": [
    "mToPick = ['SMAD3_HUMAN.H11MO.0.B','PBX1_HUMAN.H11MO.0.A','BHE40_HUMAN.H11MO.0.A']\n",
    "for m in mToPick:\n",
    "    print m\n",
    "    printPWM(knownMotifs[m])\n",
    "    writeoutPWM(name=m,outfile=\"motif_inserted/\"+m+'.meme',pwm=knownMotifs[m])\n"
   ]
  },
  {
   "cell_type": "code",
   "execution_count": 82,
   "metadata": {
    "collapsed": false
   },
   "outputs": [
    {
     "data": {
      "text/plain": [
       "u'/Users/vungo/Work/mepigram_released/testfiles/evaluation'"
      ]
     },
     "execution_count": 82,
     "metadata": {},
     "output_type": "execute_result"
    }
   ],
   "source": [
    "pwd"
   ]
  },
  {
   "cell_type": "code",
   "execution_count": 90,
   "metadata": {
    "collapsed": false,
    "scrolled": false
   },
   "outputs": [
    {
     "name": "stdout",
     "output_type": "stream",
     "text": [
      "SMAD3_HUMAN.H11MO.0.B SMAD3\n",
      "CTCTGTCACCTG\n",
      "PBX1_HUMAN.H11MO.0.A PBX1\n",
      "TGATTGACAG\n",
      "BHE40_HUMAN.H11MO.0.A BHE40\n",
      "GGCACGTGAC\n"
     ]
    }
   ],
   "source": [
    "\n",
    "mymotifs = {}\n",
    "for key in mToPick:\n",
    "    print key,key.split(\"_\")[0]\n",
    "    #print knownMotifs[key]\n",
    "    print getConsensus(knownMotifs[key])\n",
    "    mymotifs[key.split('_')[0]] = knownMotifs[key]\n",
    "\n",
    "#mymotifs\n",
    "\n"
   ]
  },
  {
   "cell_type": "code",
   "execution_count": 109,
   "metadata": {
    "collapsed": false
   },
   "outputs": [
    {
     "name": "stdout",
     "output_type": "stream",
     "text": [
      "GATAEGCA\n"
     ]
    }
   ],
   "source": [
    "#add the methylation to these motifs\n",
    "#SMAD3: no. 5 and 6: add EG    0-based\n",
    "props = {\n",
    "    'A':0.024376,\n",
    "    'C':0.085981,\n",
    "    'G':0.014709,\n",
    "    'T':0.214204,\n",
    "    'E':0.660729\n",
    "        }\n",
    "loc = 5 \n",
    "mymotifs['SMAD3'] = insertBaseToPWM_typeE(loc=loc, props=props, pwm=mymotifs['SMAD3'])\n",
    "\n",
    "props = {\n",
    "    'A':0.024376,\n",
    "    'C':0.085981,\n",
    "    'E':0.014709,\n",
    "    'T':0.214204,\n",
    "    'G':0.660729\n",
    "    }\n",
    "loc = 6 \n",
    "mymotifs['SMAD3'] = insertBaseToPWM_typeE(loc=loc, props=props, pwm=mymotifs['SMAD3'])\n",
    "\n",
    "\n",
    "\n",
    "#PBX1: loc = 7,8\n",
    "loc = 7\n",
    "props = {\n",
    "    'A':0.0,\n",
    "    'C':0.35,\n",
    "    'G':0.0,\n",
    "    'T':0.0,\n",
    "    'E':0.65\n",
    "        }\n",
    "\n",
    "mymotifs['PBX1'] = insertBaseToPWM_typeE(loc=loc, props=props, pwm=mymotifs['PBX1'])\n",
    "\n",
    "loc = 8\n",
    "props = {\n",
    "    'A':0.35,\n",
    "    'C':0.0,\n",
    "    'G':0.65,\n",
    "    'T':0.0,\n",
    "    'E':0.0\n",
    "        }\n",
    "\n",
    "mymotifs['PBX1'] = insertBaseToPWM_typeE(loc=loc, props=props, pwm=mymotifs['PBX1'])\n",
    "\n",
    "#BHE40: loc = 4\n",
    "loc = 4\n",
    "props = {\n",
    "    'A':0.025,\n",
    "    'C':0.025,\n",
    "    'G':0.025,\n",
    "    'T':0.025,\n",
    "    'E':0.9\n",
    "        }\n",
    "\n",
    "mymotifs['BHE40'] = insertBaseToPWM_typeE(loc=loc, props=props, pwm=mymotifs['BHE40'])\n",
    "\n",
    "\n",
    "#add the gatEGaca motif too \n",
    "gataEGca = {\n",
    "    'A':[0.1,0.7,0.0,0.8,0.0,0.0,0.1,0.9],\n",
    "    'C':[0.0,0.1,0.1,0.2,0.2,0.0,0.9,0.0],\n",
    "    'G':[0.9,0.0,0.0,0.0,0.0,0.8,0.0,0.1],\n",
    "    'T':[0.0,0.1,0.9,0.0,0.0,0.1,0.0,0.0],\n",
    "    'E':[0.0,0.1,0.0,0.0,0.8,0.1,0.0,0.0],\n",
    "}\n",
    "print getConsensus(gataEGca)\n",
    "mymotifs['gataEGca'] = gataEGca\n"
   ]
  },
  {
   "cell_type": "code",
   "execution_count": 111,
   "metadata": {
    "collapsed": false,
    "scrolled": false
   },
   "outputs": [
    {
     "name": "stdout",
     "output_type": "stream",
     "text": [
      "PBX1 TGATTGAEGG\n",
      "A\tC\tG\tT\tE\tF\n",
      "0.21\t0.088\t0.202\t0.5\t0.0\n",
      "0.064\t0.09\t0.834\t0.012\t0.0\n",
      "0.868\t0.054\t0.024\t0.054\t0.0\n",
      "0.042\t0.266\t0.34\t0.352\t0.0\n",
      "0.072\t0.076\t0.172\t0.68\t0.0\n",
      "0.038\t0.012\t0.944\t0.006\t0.0\n",
      "0.684\t0.002\t0.306\t0.008\t0.0\n",
      "0.0\t0.35\t0.0\t0.0\t0.65\n",
      "0.35\t0.0\t0.65\t0.0\t0.0\n",
      "0.108\t0.102\t0.686\t0.104\t0.0\n",
      "gataEGca GATAEGCA\n",
      "A\tC\tG\tT\tE\tF\n",
      "0.1\t0.0\t0.9\t0.0\t0.0\n",
      "0.7\t0.1\t0.0\t0.1\t0.1\n",
      "0.0\t0.1\t0.0\t0.9\t0.0\n",
      "0.8\t0.2\t0.0\t0.0\t0.0\n",
      "0.0\t0.2\t0.0\t0.0\t0.8\n",
      "0.0\t0.0\t0.8\t0.1\t0.1\n",
      "0.1\t0.9\t0.0\t0.0\t0.0\n",
      "0.9\t0.0\t0.1\t0.0\t0.0\n",
      "BHE40 GGCAEGTGAC\n",
      "A\tC\tG\tT\tE\tF\n",
      "0.346\t0.084\t0.37\t0.2\t0.0\n",
      "0.17\t0.014\t0.628\t0.188\t0.0\n",
      "0.098\t0.898\t0.002\t0.002\t0.0\n",
      "0.944\t0.012\t0.016\t0.028\t0.0\n",
      "0.025\t0.025\t0.025\t0.025\t0.9\n",
      "0.052\t0.042\t0.9\t0.006\t0.0\n",
      "0.046\t0.014\t0.046\t0.894\t0.0\n",
      "0.002\t0.0\t0.998\t0.0\t0.0\n",
      "0.584\t0.234\t0.116\t0.066\t0.0\n",
      "0.092\t0.458\t0.38\t0.07\t0.0\n",
      "SMAD3 CTCTGEGACCTG\n",
      "A\tC\tG\tT\tE\tF\n",
      "0.164\t0.364\t0.314\t0.158\t0.0\n",
      "0.11\t0.272\t0.168\t0.45\t0.0\n",
      "0.064\t0.696\t0.06\t0.18\t0.0\n",
      "0.216\t0.004\t0.014\t0.766\t0.0\n",
      "0.07\t0.294\t0.554\t0.082\t0.0\n",
      "0.024\t0.086\t0.015\t0.214\t0.661\n",
      "0.024\t0.086\t0.661\t0.214\t0.015\n",
      "0.466\t0.118\t0.022\t0.394\t0.0\n",
      "0.008\t0.566\t0.332\t0.094\t0.0\n",
      "0.032\t0.912\t0.014\t0.042\t0.0\n",
      "0.352\t0.056\t0.004\t0.588\t0.0\n",
      "0.072\t0.272\t0.494\t0.162\t0.0\n"
     ]
    }
   ],
   "source": [
    "for key in mymotifs:\n",
    "    print key,getConsensus(mymotifs[key])\n",
    "    printPWM(mymotifs[key])\n",
    "     "
   ]
  },
  {
   "cell_type": "code",
   "execution_count": 112,
   "metadata": {
    "collapsed": false
   },
   "outputs": [
    {
     "name": "stdout",
     "output_type": "stream",
     "text": [
      "PBX1\n",
      "gataEGca\n",
      "BHE40\n",
      "SMAD3\n"
     ]
    }
   ],
   "source": [
    "## print them out \n",
    "\n",
    "for m in mymotifs:\n",
    "    print m\n",
    "    #printPWM(mymotifs[m])\n",
    "    writeoutPWM(name=m,outfile=\"motif_inserted/\"+m+'.typeE.meme',pwm=mymotifs[m])"
   ]
  },
  {
   "cell_type": "code",
   "execution_count": null,
   "metadata": {
    "collapsed": true
   },
   "outputs": [],
   "source": []
  },
  {
   "cell_type": "markdown",
   "metadata": {},
   "source": [
    "### Make sequences randomly"
   ]
  },
  {
   "cell_type": "code",
   "execution_count": 5,
   "metadata": {
    "collapsed": true
   },
   "outputs": [],
   "source": [
    "import random\n",
    "import itertools\n",
    "import bisect\n",
    "import numpy as np\n",
    "\n",
    "def randomseqDimer(props,length):\n",
    "    \"\"\"\n",
    "    Generate string randomly at certain length\n",
    "    - props: a dict of dimers probability for DNA \n",
    "    \n",
    "    \"\"\"\n",
    "    #choices, weights = fprob_table.items()\n",
    "    fprob_table = props\n",
    "    K = length\n",
    "    choices = []\n",
    "    weights = []\n",
    "    for key in fprob_table:\n",
    "        choices += [key]\n",
    "        weights += [fprob_table[key]]\n",
    "    #cumdist = list(itertools.accumulate(weights))\n",
    "    cumdist = []\n",
    "    cumprop = 0.0\n",
    "    for i in range(len(choices)):\n",
    "        cumprop += weights[i]\n",
    "        cumdist += [cumprop]\n",
    "    results = []\n",
    "    s = \"\"\n",
    "    while len(s) < K:\n",
    "        x = random.random() * cumdist[-1]\n",
    "        s += choices[bisect.bisect(cumdist, x)]\n",
    "        #print s\n",
    "\n",
    "    return s"
   ]
  },
  {
   "cell_type": "code",
   "execution_count": null,
   "metadata": {
    "collapsed": true
   },
   "outputs": [],
   "source": []
  },
  {
   "cell_type": "code",
   "execution_count": 6,
   "metadata": {
    "collapsed": false,
    "scrolled": false
   },
   "outputs": [],
   "source": [
    "### getting the dimer props \n",
    "\n",
    "backgroundfile = \"../test_data_typeE/background_typeE-5.tsv\"\n",
    "lines = open(backgroundfile).readlines()\n",
    "\n",
    "dimercount = {}\n",
    "for line in lines[1:]:\n",
    "    #print line.strip()\n",
    "    tmp = line.strip().split()\n",
    "    seq = tmp[0]\n",
    "    k = 2 \n",
    "    multiplier = int(tmp[1])\n",
    "    for i in range(len(seq) - k + 1):\n",
    "        dimer = seq[i:i+k]\n",
    "        try: \n",
    "            dimercount[dimer] += multiplier*1\n",
    "        except KeyError:\n",
    "            dimercount[dimer] = multiplier*1 \n",
    "dimerProps = {}\n",
    "total = 0.0\n",
    "for key in dimercount:\n",
    "    total += dimercount[key]\n",
    "for key in dimercount:\n",
    "    dimerProps[key] = dimercount[key]/total\n",
    "#dimerProps"
   ]
  },
  {
   "cell_type": "code",
   "execution_count": 113,
   "metadata": {
    "collapsed": false,
    "scrolled": false
   },
   "outputs": [
    {
     "name": "stdout",
     "output_type": "stream",
     "text": [
      "PBX1\n",
      "0.01_250\n",
      "3\n",
      "0.01_1000\n",
      "11\n",
      "0.01_5000\n",
      "51\n",
      "0.01_20000\n",
      "201\n",
      "0.02_250\n",
      "6\n",
      "0.02_1000\n",
      "21\n",
      "0.02_5000\n",
      "101\n",
      "0.02_20000\n",
      "401\n",
      "0.05_250\n",
      "13\n",
      "0.05_1000\n",
      "51\n",
      "0.05_5000\n",
      "251\n",
      "0.05_20000\n",
      "1001\n",
      "0.1_250\n",
      "26\n",
      "0.1_1000\n",
      "101\n",
      "0.1_5000\n",
      "501\n",
      "0.1_20000\n",
      "2001\n",
      "0.25_250\n",
      "63\n",
      "0.25_1000\n",
      "251\n",
      "0.25_5000\n",
      "1251\n",
      "0.25_20000\n",
      "5001\n",
      "gataEGca\n",
      "0.01_250\n",
      "3\n",
      "0.01_1000\n",
      "11\n",
      "0.01_5000\n",
      "51\n",
      "0.01_20000\n",
      "201\n",
      "0.02_250\n",
      "6\n",
      "0.02_1000\n",
      "21\n",
      "0.02_5000\n",
      "101\n",
      "0.02_20000\n",
      "401\n",
      "0.05_250\n",
      "13\n",
      "0.05_1000\n",
      "51\n",
      "0.05_5000\n",
      "251\n",
      "0.05_20000\n",
      "1001\n",
      "0.1_250\n",
      "26\n",
      "0.1_1000\n",
      "101\n",
      "0.1_5000\n",
      "501\n",
      "0.1_20000\n",
      "2001\n",
      "0.25_250\n",
      "63\n",
      "0.25_1000\n",
      "251\n",
      "0.25_5000\n",
      "1251\n",
      "0.25_20000\n",
      "5001\n",
      "BHE40\n",
      "0.01_250\n",
      "3\n",
      "0.01_1000\n",
      "11\n",
      "0.01_5000\n",
      "51\n",
      "0.01_20000\n",
      "201\n",
      "0.02_250\n",
      "6\n",
      "0.02_1000\n",
      "21\n",
      "0.02_5000\n",
      "101\n",
      "0.02_20000\n",
      "401\n",
      "0.05_250\n",
      "13\n",
      "0.05_1000\n",
      "51\n",
      "0.05_5000\n",
      "251\n",
      "0.05_20000\n",
      "1001\n",
      "0.1_250\n",
      "26\n",
      "0.1_1000\n",
      "101\n",
      "0.1_5000\n",
      "501\n",
      "0.1_20000\n",
      "2001\n",
      "0.25_250\n",
      "63\n",
      "0.25_1000\n",
      "251\n",
      "0.25_5000\n",
      "1251\n",
      "0.25_20000\n",
      "5001\n",
      "SMAD3\n",
      "0.01_250\n",
      "3\n",
      "0.01_1000\n",
      "11\n",
      "0.01_5000\n",
      "51\n",
      "0.01_20000\n",
      "201\n",
      "0.02_250\n",
      "6\n",
      "0.02_1000\n",
      "21\n",
      "0.02_5000\n",
      "101\n",
      "0.02_20000\n",
      "401\n",
      "0.05_250\n",
      "13\n",
      "0.05_1000\n",
      "51\n",
      "0.05_5000\n",
      "251\n",
      "0.05_20000\n",
      "1001\n",
      "0.1_250\n",
      "26\n",
      "0.1_1000\n",
      "101\n",
      "0.1_5000\n",
      "501\n",
      "0.1_20000\n",
      "2001\n",
      "0.25_250\n",
      "63\n",
      "0.25_1000\n",
      "251\n",
      "0.25_5000\n",
      "1251\n",
      "0.25_20000\n",
      "5001\n"
     ]
    }
   ],
   "source": [
    "abundances = [0.01,0.02,0.05,0.1,0.25]\n",
    "sizes = [250, 1000, 5000, 20000]\n",
    "seq_length_avg = 250\n",
    "seq_length_std = 50\n",
    "\n",
    "resultdir = './files/SIM_seqs_2/'\n",
    "for motif in mymotifs:\n",
    "    print motif\n",
    "    seqsets = {} \n",
    "    for a in abundances:\n",
    "        for siz in sizes:\n",
    "            name = str(a) + '_' + str(siz)\n",
    "            print name\n",
    "            outfile = open(resultdir + motif+'_'+name+'.faa','w')\n",
    "            \n",
    "            seq_set = {}\n",
    "            for i in range(siz):\n",
    "                seqlength = int(np.random.normal(scale=seq_length_std, loc=seq_length_avg))\n",
    "                seq = randomseqDimer(props=dimerProps,length=seqlength)\n",
    "                seq_set[i] = seq \n",
    "            # now , insert the motif to the seqs\n",
    "            numtoinsert = int(a*siz) + 1\n",
    "            print numtoinsert\n",
    "            seq_set = insertoseqs(numseqtopick=numtoinsert,pwm=mymotifs[motif],seqs=seq_set)\n",
    "            \n",
    "            #write out the fasta file \n",
    "            for key in seq_set:\n",
    "                line = \">\"+str(key)+'\\n'+seq_set[key]\n",
    "                outfile.write(line+'\\n')\n",
    "            outfile.close()\n",
    "        \n",
    "        \n"
   ]
  },
  {
   "cell_type": "code",
   "execution_count": 13,
   "metadata": {
    "collapsed": false
   },
   "outputs": [
    {
     "name": "stdout",
     "output_type": "stream",
     "text": [
      "CEBPB\n",
      "gataEGca\n",
      "CTCF\n",
      "NRF1\n"
     ]
    }
   ],
   "source": [
    "for motif in mymotifs:\n",
    "    print motif"
   ]
  },
  {
   "cell_type": "code",
   "execution_count": 20,
   "metadata": {
    "collapsed": false
   },
   "outputs": [],
   "source": [
    "for m in mymotifs:\n",
    "    writeoutPWM(name='1',outfile=m+\".SIM.typeE.meme\",pwm=mymotifs[m])"
   ]
  },
  {
   "cell_type": "code",
   "execution_count": null,
   "metadata": {
    "collapsed": true
   },
   "outputs": [],
   "source": []
  }
 ],
 "metadata": {
  "kernelspec": {
   "display_name": "Python 2",
   "language": "python",
   "name": "python2"
  },
  "language_info": {
   "codemirror_mode": {
    "name": "ipython",
    "version": 2
   },
   "file_extension": ".py",
   "mimetype": "text/x-python",
   "name": "python",
   "nbconvert_exporter": "python",
   "pygments_lexer": "ipython2",
   "version": "2.7.12"
  }
 },
 "nbformat": 4,
 "nbformat_minor": 2
}
