{
 "cells": [
  {
   "cell_type": "markdown",
   "metadata": {},
   "source": [
    "### Simulation\n",
    "\n",
    "* make 4 sets of sequences: 250 seq , 1000 seqs, 5000 seqs, each 250 bp (meme takes 60000 only)\n",
    "    * Use random generator with real frequencies\n",
    "* Insert real motifs but have been modified to have mC.\n",
    "    * CEBPB , NRF1, SP1, CTCF, made up motif\n",
    "* Different abundances: 1%, 2%, 5%, 10%, 25% of peaks\n",
    "    "
   ]
  },
  {
   "cell_type": "code",
   "execution_count": null,
   "metadata": {
    "collapsed": true
   },
   "outputs": [],
   "source": [
    "abundances = [0.01,0.02,0.05,0.1,0.25]\n",
    "sizes = [250, 1000, 5000]\n",
    "seq_length_avg = 250\n",
    "seq_length_std = 50\n",
    "\n"
   ]
  }
 ],
 "metadata": {
  "kernelspec": {
   "display_name": "Python 2",
   "language": "python",
   "name": "python2"
  },
  "language_info": {
   "codemirror_mode": {
    "name": "ipython",
    "version": 2
   },
   "file_extension": ".py",
   "mimetype": "text/x-python",
   "name": "python",
   "nbconvert_exporter": "python",
   "pygments_lexer": "ipython2",
   "version": "2.7.12"
  }
 },
 "nbformat": 4,
 "nbformat_minor": 2
}
