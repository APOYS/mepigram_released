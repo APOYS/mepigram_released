{
 "cells": [
  {
   "cell_type": "markdown",
   "metadata": {},
   "source": [
    "### Filter and rank motifs by pvalue\n",
    "* takes enrichement and meme file and pval cutoff \n",
    "* sort and remove motifs not passing cutoff\n",
    "* rename motifs in meme file"
   ]
  },
  {
   "cell_type": "code",
   "execution_count": 43,
   "metadata": {
    "collapsed": false,
    "scrolled": false
   },
   "outputs": [
    {
     "name": "stdout",
     "output_type": "stream",
     "text": [
      "MOTIF\tp-value\tscoreCutoff\tPosMatches\tPosNonMatches\tNegMatches\tNegNonMatches\tEnrichment\n",
      "\n",
      "12_12.848\t2.34659510729e-14\t8.72996726031\t79\t921\t11\t989\t7.18181818182\n",
      "165_2.325\t0.000257630903122\t7.41987769198\t38\t962\t12\t988\t3.16666666667\n",
      "63_9.065\t0.0004008321681\t8.74907240931\t37\t963\t12\t988\t3.08333333333\n",
      "120_6.041\t0.00045048761691\t7.80691342971\t40\t960\t14\t986\t2.85714285714\n",
      "21_11.693\t0.000462959532746\t7.72004247819\t35\t965\t11\t989\t3.18181818182\n",
      "------------------------------\n",
      "0_7.1818_2.35E-14\n",
      "1_3.1667_2.58E-04\n",
      "2_3.0833_4.01E-04\n",
      "3_2.8571_4.50E-04\n",
      "4_3.1818_4.63E-04\n",
      "5_3.1818_4.63E-04\n",
      "6_2.625_7.24E-04\n",
      "7_2.9167_9.52E-04\n",
      "----------------------------------------\n",
      "MEME version 4.5 - modified\n",
      "ALPHABET= ACGTE \n",
      "strands: + \n",
      "Background letter frequencies\n",
      "A 0.295 C 0.205 G 0.205 T 0.295 E 0.0076\n",
      "\n",
      "\n"
     ]
    },
    {
     "data": {
      "text/plain": [
       "0"
      ]
     },
     "execution_count": 43,
     "metadata": {},
     "output_type": "execute_result"
    }
   ],
   "source": [
    "import os \n",
    "from decimal import Decimal\n",
    "\n",
    "wd = \"mepigram/CEBPB_0.1_1000.faa.mepi.results.results/\"\n",
    "os.listdir(wd)\n",
    "\n",
    "memefile = wd + 'motifs.mepigram.meme'\n",
    "enrichmentfile = wd + 'enrichments.tsv'\n",
    "pvalcutoff = 0.001\n",
    "outfile = wd + \"motifs.mepigram.final.meme\"\n",
    "\n",
    "# read enrichement file:\n",
    "lines = open(enrichmentfile).readlines()\n",
    "\n",
    "print lines[0]\n",
    "#for line in lines[:10]:\n",
    "#    print line.strip()\n",
    "lines = lines[1:]\n",
    "pvalues = []\n",
    "motifs = []\n",
    "for line in lines:\n",
    "    tmp = line.strip().split()\n",
    "    pvalues += [float(tmp[1])]\n",
    "    motifs += tmp[0]\n",
    "\n",
    "sorted_lines =[x for _,x in sorted(zip(pvalues,lines))]\n",
    "for line in sorted_lines[:5]:\n",
    "    print line.strip()\n",
    "    \n",
    "print \"-\"*30\n",
    "    \n",
    "# rename each motif by pval rank and enrichement score:\n",
    "oldnames = []\n",
    "newnames = []\n",
    "for i in range(len(sorted_lines)):\n",
    "    line = sorted_lines[i]\n",
    "    tmp = line.strip().split()\n",
    "    oldname = tmp[0]\n",
    "    if float(tmp[1]) > pvalcutoff:\n",
    "        continue\n",
    "    pval = '%.2E' % Decimal(tmp[1])\n",
    "    newname = str(i) + '_' + str(round(float(tmp[-1]),4)) + '_' + pval\n",
    "    print newname\n",
    "    oldnames += [oldname]\n",
    "    newnames += [newname]\n",
    "# get get only the motifs in gotten\n",
    "print \"-\"*40\n",
    "pwms = open(memefile).read().split(\"MOTIF\")\n",
    "header = pwms[0]\n",
    "newpwms = []\n",
    "for i in range(len(oldnames)):\n",
    "    oldname = oldnames[i]\n",
    "    #print motif\n",
    "    for pwm in pwms:\n",
    "        if oldname in pwm:\n",
    "            newpwms += [\"MOTIF\\t\" + pwm.replace(oldname,newnames[i]).strip()+'\\n']\n",
    "print header + '\\n'.join(newpwms)\n",
    "\n",
    "out = open(outfile,'w')\n",
    "out.write(header + '\\n'.join(newpwms))\n",
    "out.close()\n",
    "\n",
    "#rename the meme files accordingly\n",
    "os.system(\"mv %s %s\" %(memefile,memefile+'.tmp'))\n",
    "os.system(\"mv %s %s\" %(outfile,memefile))"
   ]
  },
  {
   "cell_type": "code",
   "execution_count": 33,
   "metadata": {
    "collapsed": false
   },
   "outputs": [
    {
     "data": {
      "text/plain": [
       "{'117_6.229': '7_2.9167_9.52E-04',\n",
       " '120_6.041': '3_2.8571_4.50E-04',\n",
       " '12_12.848': '0_7.1818_2.35E-14',\n",
       " '165_2.325': '1_3.1667_2.58E-04',\n",
       " '21_11.693': '4_3.1818_4.63E-04',\n",
       " '25_11.418': '5_3.1818_4.63E-04',\n",
       " '54_9.72': '6_2.625_7.24E-04',\n",
       " '63_9.065': '2_3.0833_4.01E-04'}"
      ]
     },
     "execution_count": 33,
     "metadata": {},
     "output_type": "execute_result"
    }
   ],
   "source": [
    "newnamedict"
   ]
  },
  {
   "cell_type": "code",
   "execution_count": null,
   "metadata": {
    "collapsed": true
   },
   "outputs": [],
   "source": []
  }
 ],
 "metadata": {
  "kernelspec": {
   "display_name": "Python 2",
   "language": "python",
   "name": "python2"
  },
  "language_info": {
   "codemirror_mode": {
    "name": "ipython",
    "version": 2
   },
   "file_extension": ".py",
   "mimetype": "text/x-python",
   "name": "python",
   "nbconvert_exporter": "python",
   "pygments_lexer": "ipython2",
   "version": "2.7.12"
  }
 },
 "nbformat": 4,
 "nbformat_minor": 0
}
