{
 "cells": [
  {
   "cell_type": "code",
   "execution_count": 5,
   "metadata": {
    "collapsed": false
   },
   "outputs": [],
   "source": [
    "import os\n"
   ]
  },
  {
   "cell_type": "code",
   "execution_count": 6,
   "metadata": {
    "collapsed": true
   },
   "outputs": [],
   "source": [
    "import argparse\n",
    "import os \n",
    "\n",
    "def revcomplE(word):\n",
    "\trevComp=''\n",
    "\ttransdict={'A':'T','C':'G','G':'C','T':'A'}\n",
    "\tindex=0\n",
    "\twhile index <len(word):\n",
    "\t\tif word[index] == 'E' :#if is methylated C\n",
    "\t\t\tif index <len(word)-1 and word[index+1]=='G': #if G is next to it\n",
    "\t\t\t\trevComp += 'GE'\n",
    "\t\t\t\tindex+=2   \n",
    "\t\t\telse:\n",
    "\t\t\t\trevComp += 'G'\n",
    "\t\t\t\tindex+=1\n",
    "\t\telse:\n",
    "\t\t\ttry: \n",
    "\t\t\t\trevComp += transdict[word[index]]\n",
    "\t\t\texcept KeyError:\n",
    "\t\t\t\trevComp += 'N'\n",
    "\t\t\tindex+=1\t\t \n",
    "\treturn revComp[::-1]\n",
    "\n",
    "def revcomplEF(word):\n",
    "\trevComp=''\n",
    "\ttransdict={'A':'T','C':'G','G':'C','T':'A','E':'F','F':'E'}\n",
    "\tindex=0\n",
    "\twhile index <len(word):\n",
    "\t\ttry:\n",
    "\t\t\trevComp += transdict[word[index]]\n",
    "\t\texcept KeyError:\n",
    "\t\t\trevComp += 'N'\n",
    "\t\tindex += 1\t\t \n",
    "\treturn revComp[::-1]\n",
    "\n",
    "def main():\n",
    "\tparser = argparse.ArgumentParser()\n",
    "\tparser.add_argument(\"-gd\", \"--genomedir\", help=\"a directory that contains genome fasta sequence files, ideally one chromosome per file\")\n",
    "\tparser.add_argument(\"-k\", \"--klength\",type =int, help=\"integer, the length of k-mers\")\n",
    "\tparser.add_argument('--typeEF', dest='typeEF',action='store_true', help=\"using typeEF, default is typeE\")\n",
    "\tparser.set_defaults(typeEF=False)\n",
    "\n",
    "\targs = parser.parse_args()\n",
    "\t\n",
    "\n",
    "\tgenomedir = args.genomedir\n",
    "\tif genomedir == None:\n",
    "\t\tprint \"GENOMEDIR is missing, please specify\"\n",
    "\t\treturn\n",
    "\ttry:\n",
    "\t\tk = int(args.klength)\n",
    "\texcept:\n",
    "\t\tprint \"KLENGTH must be specified\"\n",
    "\t\treturn\n",
    "\n",
    "\ttypeEF = args.typeEF\n",
    "\tprint \"GENOMEDIR is\",genomedir\n",
    "\tprint \"klength is\", k\n",
    "\tprint \"Using typeEF\",typeEF\n",
    "\n",
    "\tkmercounts = {} # \n",
    "\ttotal = 0\n",
    "\tfor file in os.listdir(genomedir):\n",
    "\t\tprint \"Reading ...\",file\n",
    "\t\tfor line in open(genomedir+'/'+file):\n",
    "\t\t\tif line[0] == \">\": # this is the name, skip\n",
    "\t\t\t\tcontinue\n",
    "\t\t\tseq = line.strip().upper()\n",
    "\t\t\tprint len(seq)\n",
    "\t\t\t\n",
    "\t\t\t#count the kmers\n",
    "\t\t\tkmers = [seq[i:i+k] for i in range(len(seq)-k)]\n",
    "\t\t\tfor i in range(len(kmers)):\n",
    "\t\t\t\tkmer = kmers[i]\n",
    "\t\t\t\tif \"N\" in kmer:\n",
    "\t\t\t\t\tcontinue\n",
    "\t\t\t\ttry: \n",
    "\t\t\t\t\tkmercounts[kmer] += 1\n",
    "\t\t\t\texcept KeyError:\n",
    "\t\t\t\t\tkmercounts[kmer] = 1\n",
    "\t\t\t\n",
    "\t\t\tif typeEF: #check if type E or EF\n",
    "\t\t\t\tseq = revcomplEF(seq)\n",
    "\t\t\telse:\n",
    "\t\t\t\tseq = revcomplE(seq)\n",
    "\n",
    "\t\t\tkmers = [seq[i:i+k] for i in range(len(seq)-k)]\n",
    "\t\t\tfor i in range(len(kmers)):\n",
    "\t\t\t\tkmer = kmers[i]\n",
    "\t\t\t\tif \"N\" in kmer:\n",
    "\t\t\t\t\tcontinue\n",
    "\t\t\t\ttry: \n",
    "\t\t\t\t\tkmercounts[kmer] += 1\n",
    "\t\t\t\texcept KeyError:\n",
    "\t\t\t\t\tkmercounts[kmer] = 1\n",
    "\n",
    "\t#output\n",
    "\toutfile = \"\"\n",
    "\tif typeEF:\n",
    "\t\toutfile = \"background_typeEF-\"+str(k) +\".tsv\"\n",
    "\telse:\n",
    "\t\toutfile = \"background_typeE-\"+str(k) +\".tsv\"\n",
    "\ttarget = open(outfile,'w')\n",
    "\ttarget.write(\"TOTAL\\t\"+str(total)+'\\n')\n",
    "\tfor kmer in kmercounts:\n",
    "\t\ttarget.write(kmer+'\\t'+str(kmercounts[kmer])+'\\n')\n",
    "\ttarget.close()\n",
    "\t\t\n",
    "\n",
    "\n",
    "\treturn \n",
    "\n",
    "\n",
    "if __name__ == \"__main__\":\n",
    "\tmain()"
   ]
  },
  {
   "cell_type": "code",
   "execution_count": 11,
   "metadata": {
    "collapsed": false
   },
   "outputs": [
    {
     "name": "stdout",
     "output_type": "stream",
     "text": [
      "Reading ... chr2\n",
      "Reading ... chr1\n"
     ]
    }
   ],
   "source": [
    "genomedir = \"./samplegenome/\"\n",
    "k = 8\n",
    "typeEF = True\n",
    "\n",
    "kmercounts = {} # \n",
    "total = 0\n",
    "for file in os.listdir(genomedir):\n",
    "    print \"Reading ...\",file\n",
    "    for line in open(genomedir+'/'+file):\n",
    "        if line[0] == \">\": # this is the name, skip\n",
    "            continue\n",
    "        seq = line.strip()\n",
    "        \n",
    "        #count the kmers\n",
    "        for i in range(len(seq) - k):\n",
    "            kmer = seq[i:i+k]\n",
    "            if \"N\" in kmer:\n",
    "                continue\n",
    "            try: \n",
    "                kmercounts[kmer] += 1\n",
    "            except KeyError:\n",
    "                kmercounts[kmer] = 1\n",
    "            total += 1\n",
    "        \n",
    "        \n",
    "        if typeEF: #check if type E or EF\n",
    "            seq = revcomplEF(seq)\n",
    "        else:\n",
    "            seq = revcomplE(seq)\n",
    "        \n",
    "        for i in range(len(seq) - k):\n",
    "            kmer = seq[i:i+k]\n",
    "            if \"N\" in kmer:\n",
    "                continue\n",
    "            try: \n",
    "                kmercounts[kmer] += 1\n",
    "            except KeyError:\n",
    "                kmercounts[kmer] = 1\n",
    "            total += 1\n",
    "           \n",
    "        \n",
    "#output\n",
    "outfile = \"\"\n",
    "if typeEF:\n",
    "    outfile = \"background_typeEF-\"+str(k) +\".tsv\"\n",
    "else:\n",
    "    outfile = \"background_typeE-\"+str(k) +\".tsv\"\n",
    "target = open(outfile,'w')\n",
    "target.write(\"TOTAL\\t\"+str(total)+'\\n')\n",
    "for kmer in kmercounts:\n",
    "    target.write(kmer+'\\t'+str(kmercounts[kmer])+'\\n')\n",
    "target.close()\n",
    "    "
   ]
  },
  {
   "cell_type": "code",
   "execution_count": null,
   "metadata": {
    "collapsed": true
   },
   "outputs": [],
   "source": []
  },
  {
   "cell_type": "code",
   "execution_count": 41,
   "metadata": {
    "collapsed": true
   },
   "outputs": [],
   "source": [
    "seq = \"A\"*2000000\n"
   ]
  },
  {
   "cell_type": "code",
   "execution_count": 42,
   "metadata": {
    "collapsed": false
   },
   "outputs": [
    {
     "name": "stdout",
     "output_type": "stream",
     "text": [
      "2.58216118813\n"
     ]
    }
   ],
   "source": [
    "import timeit\n",
    "\n",
    "def substring(s,k):\n",
    "    s = list(s)\n",
    "    kmers = []\n",
    "    for i in range(len(s)-k):\n",
    "        kmer = s[i:i+k]\n",
    "        kmers += [''.join(kmer)]\n",
    "    return kmers\n",
    "\n",
    "start_time = timeit.default_timer()\n",
    "k = 8\n",
    "kmers = substring(seq,8)\n",
    "\n",
    "\n",
    "# code you want to evaluate\n",
    "elapsed = timeit.default_timer() - start_time\n",
    "\n",
    "print elapsed"
   ]
  },
  {
   "cell_type": "code",
   "execution_count": 18,
   "metadata": {
    "collapsed": true
   },
   "outputs": [],
   "source": []
  },
  {
   "cell_type": "code",
   "execution_count": 43,
   "metadata": {
    "collapsed": false
   },
   "outputs": [
    {
     "name": "stdout",
     "output_type": "stream",
     "text": [
      "13.8980710506\n"
     ]
    }
   ],
   "source": [
    "\n",
    "k = 8\n",
    "kmers = []\n",
    "for i in range(len(seq)-k):\n",
    "    kmer = seq[i:i+k]\n",
    "    kmers += [kmer]\n",
    "\n",
    "# code you want to evaluate\n",
    "elapsed = timeit.default_timer() - start_time\n",
    "\n",
    "print elapsed"
   ]
  },
  {
   "cell_type": "code",
   "execution_count": 44,
   "metadata": {
    "collapsed": false
   },
   "outputs": [
    {
     "name": "stdout",
     "output_type": "stream",
     "text": [
      "0.888291120529\n"
     ]
    }
   ],
   "source": [
    "start_time = timeit.default_timer()\n",
    "kmers = [ seq[i:i+k] for i in range(len(seq)-k)]\n",
    "print timeit.default_timer() - start_time\n"
   ]
  },
  {
   "cell_type": "code",
   "execution_count": 66,
   "metadata": {
    "collapsed": false
   },
   "outputs": [
    {
     "name": "stdout",
     "output_type": "stream",
     "text": [
      "ATGGGCGAACGACGGGAATTGAACCCGCGATGGTGAATTCACAATCCACTGCCTTAATCCACTTGGCTACATCCGCCCCTACGCTACTATCTATTCTTTT\n",
      "154478\n",
      "TIME 1 0.21578001976\n",
      "TIME 2 0.126627206802\n",
      "TOTAL time 0.499745130539\n"
     ]
    }
   ],
   "source": [
    "typeEF = False\n",
    "\n",
    "genomedir = \"samplegenome/\"\n",
    "k = 8\n",
    "\n",
    "seq = open(\"samplegenome/chr1\").read().split('\\n')[1]\n",
    "print seq[:100]\n",
    "print len(seq)\n",
    "\n",
    "\n",
    "\n",
    "s_total_time = timeit.default_timer()\n",
    "\n",
    "#count the kmers\n",
    "start_time = timeit.default_timer()\n",
    "\n",
    "kmers = [seq[i:i+k] for i in range(len(seq)-k)]\n",
    "for i in range(len(kmers)):\n",
    "    kmer = kmers[i]\n",
    "    try: \n",
    "        kmercounts[kmer] += 1\n",
    "    except KeyError:\n",
    "        kmercounts[kmer] = 1\n",
    "print \"TIME 1\",timeit.default_timer() - start_time\n",
    "\n",
    "\n",
    "if typeEF: #check if type E or EF\n",
    "    seq = revcomplEF(seq)\n",
    "else:\n",
    "    seq = revcomplE(seq)\n",
    "\n",
    "\n",
    "start_time = timeit.default_timer()\n",
    "for i in range(len(seq)-k):\n",
    "    kmer = seq[i:i+k]\n",
    "    try: \n",
    "        kmercounts[kmer] += 1\n",
    "    except KeyError:\n",
    "        kmercounts[kmer] = 1\n",
    "print \"TIME 2\",timeit.default_timer() - start_time\n",
    "\n",
    "total = 0\n",
    "for kmer in kmercounts:\n",
    "    if \"N\" in kmer:\n",
    "        continue\n",
    "    total += kmercounts[kmer]\n",
    "    \n",
    "#output\n",
    "print \"TOTAL time\",timeit.default_timer() - s_total_time\n",
    "\n",
    "\n"
   ]
  },
  {
   "cell_type": "code",
   "execution_count": 67,
   "metadata": {
    "collapsed": false
   },
   "outputs": [
    {
     "name": "stdout",
     "output_type": "stream",
     "text": [
      "ATGGGCGAACGACGGGAATTGAACCCGCGATGGTGAATTCACAATCCACTGCCTTAATCCACTTGGCTACATCCGCCCCTACGCTACTATCTATTCTTTT\n",
      "154478\n",
      "TIME 1 0.199972867966\n",
      "TIME 2 0.13326883316\n",
      "TOTAL time 0.493828058243\n"
     ]
    }
   ],
   "source": [
    "typeEF = False\n",
    "\n",
    "genomedir = \"samplegenome/\"\n",
    "k = 8\n",
    "\n",
    "seq = open(\"samplegenome/chr1\").read().split('\\n')[1]\n",
    "print seq[:100]\n",
    "print len(seq)\n",
    "\n",
    "\n",
    "s_total_time = timeit.default_timer()\n",
    "\n",
    "#count the kmers\n",
    "\n",
    "\n",
    "start_time = timeit.default_timer()\n",
    "\n",
    "kmers = [seq[i:i+k] for i in range(len(seq)-k)]\n",
    "for i in range(len(kmers)):\n",
    "    kmer = kmers[i]\n",
    "    try: \n",
    "        kmercounts[kmer] += 1\n",
    "    except KeyError:\n",
    "        kmercounts[kmer] = 1\n",
    "print \"TIME 1\",timeit.default_timer() - start_time\n",
    "\n",
    "\n",
    "if typeEF: #check if type E or EF\n",
    "    seq = revcomplEF(seq)\n",
    "else:\n",
    "    seq = revcomplE(seq)\n",
    "\n",
    "\n",
    "start_time = timeit.default_timer()\n",
    "for i in range(len(seq)-k):\n",
    "    kmer = seq[i:i+k]\n",
    "    try: \n",
    "        kmercounts[kmer] += 1\n",
    "    except KeyError:\n",
    "        kmercounts[kmer] = 1\n",
    "print \"TIME 2\",timeit.default_timer() - start_time\n",
    "\n",
    "total = 0\n",
    "for kmer in kmercounts:\n",
    "    if \"N\" in kmer:\n",
    "        continue\n",
    "    total += kmercounts[kmer]\n",
    "    \n",
    "#output\n",
    "\n",
    "print \"TOTAL time\",timeit.default_timer() - s_total_time\n",
    "\n"
   ]
  },
  {
   "cell_type": "code",
   "execution_count": 68,
   "metadata": {
    "collapsed": true
   },
   "outputs": [],
   "source": [
    "from collections import Counter"
   ]
  },
  {
   "cell_type": "code",
   "execution_count": 71,
   "metadata": {
    "collapsed": true
   },
   "outputs": [],
   "source": [
    "seq = \"ATGGGCGAACGACGGGAATTGAACCCGCGATGGTGAATTCACAATCCACTGCCTTAATCCACTTGGCTACATCCGCCCCTACGCTACTATCTATTCTTTT\"\n",
    "c = Counter()\n",
    "for i in range(len(seq)-k):\n",
    "    kmer = seq[i:i+k]\n",
    "    c[kmer] += 1"
   ]
  },
  {
   "cell_type": "code",
   "execution_count": 72,
   "metadata": {
    "collapsed": false
   },
   "outputs": [
    {
     "data": {
      "text/plain": [
       "Counter({'AACCCGCG': 1,\n",
       "         'AACGACGG': 1,\n",
       "         'AATCCACT': 2,\n",
       "         'AATTCACA': 1,\n",
       "         'AATTGAAC': 1,\n",
       "         'ACAATCCA': 1,\n",
       "         'ACATCCGC': 1,\n",
       "         'ACCCGCGA': 1,\n",
       "         'ACGACGGG': 1,\n",
       "         'ACGCTACT': 1,\n",
       "         'ACGGGAAT': 1,\n",
       "         'ACTATCTA': 1,\n",
       "         'ACTGCCTT': 1,\n",
       "         'ACTTGGCT': 1,\n",
       "         'ATCCACTG': 1,\n",
       "         'ATCCACTT': 1,\n",
       "         'ATCCGCCC': 1,\n",
       "         'ATCTATTC': 1,\n",
       "         'ATGGGCGA': 1,\n",
       "         'ATGGTGAA': 1,\n",
       "         'ATTCACAA': 1,\n",
       "         'ATTGAACC': 1,\n",
       "         'CAATCCAC': 1,\n",
       "         'CACAATCC': 1,\n",
       "         'CACTGCCT': 1,\n",
       "         'CACTTGGC': 1,\n",
       "         'CATCCGCC': 1,\n",
       "         'CCACTGCC': 1,\n",
       "         'CCACTTGG': 1,\n",
       "         'CCCCTACG': 1,\n",
       "         'CCCGCGAT': 1,\n",
       "         'CCCTACGC': 1,\n",
       "         'CCGCCCCT': 1,\n",
       "         'CCGCGATG': 1,\n",
       "         'CCTACGCT': 1,\n",
       "         'CCTTAATC': 1,\n",
       "         'CGAACGAC': 1,\n",
       "         'CGACGGGA': 1,\n",
       "         'CGATGGTG': 1,\n",
       "         'CGCCCCTA': 1,\n",
       "         'CGCGATGG': 1,\n",
       "         'CGCTACTA': 1,\n",
       "         'CGGGAATT': 1,\n",
       "         'CTACATCC': 1,\n",
       "         'CTACGCTA': 1,\n",
       "         'CTACTATC': 1,\n",
       "         'CTATCTAT': 1,\n",
       "         'CTATTCTT': 1,\n",
       "         'CTGCCTTA': 1,\n",
       "         'CTTAATCC': 1,\n",
       "         'CTTGGCTA': 1,\n",
       "         'GAACCCGC': 1,\n",
       "         'GAACGACG': 1,\n",
       "         'GAATTCAC': 1,\n",
       "         'GAATTGAA': 1,\n",
       "         'GACGGGAA': 1,\n",
       "         'GATGGTGA': 1,\n",
       "         'GCCCCTAC': 1,\n",
       "         'GCCTTAAT': 1,\n",
       "         'GCGAACGA': 1,\n",
       "         'GCGATGGT': 1,\n",
       "         'GCTACATC': 1,\n",
       "         'GCTACTAT': 1,\n",
       "         'GGAATTGA': 1,\n",
       "         'GGCGAACG': 1,\n",
       "         'GGCTACAT': 1,\n",
       "         'GGGAATTG': 1,\n",
       "         'GGGCGAAC': 1,\n",
       "         'GGTGAATT': 1,\n",
       "         'GTGAATTC': 1,\n",
       "         'TAATCCAC': 1,\n",
       "         'TACATCCG': 1,\n",
       "         'TACGCTAC': 1,\n",
       "         'TACTATCT': 1,\n",
       "         'TATCTATT': 1,\n",
       "         'TATTCTTT': 1,\n",
       "         'TCACAATC': 1,\n",
       "         'TCCACTGC': 1,\n",
       "         'TCCACTTG': 1,\n",
       "         'TCCGCCCC': 1,\n",
       "         'TCTATTCT': 1,\n",
       "         'TGAACCCG': 1,\n",
       "         'TGAATTCA': 1,\n",
       "         'TGCCTTAA': 1,\n",
       "         'TGGCTACA': 1,\n",
       "         'TGGGCGAA': 1,\n",
       "         'TGGTGAAT': 1,\n",
       "         'TTAATCCA': 1,\n",
       "         'TTCACAAT': 1,\n",
       "         'TTGAACCC': 1,\n",
       "         'TTGGCTAC': 1})"
      ]
     },
     "execution_count": 72,
     "metadata": {},
     "output_type": "execute_result"
    }
   ],
   "source": [
    "c\n"
   ]
  },
  {
   "cell_type": "code",
   "execution_count": null,
   "metadata": {
    "collapsed": true
   },
   "outputs": [],
   "source": []
  }
 ],
 "metadata": {
  "kernelspec": {
   "display_name": "Python 2",
   "language": "python",
   "name": "python2"
  },
  "language_info": {
   "codemirror_mode": {
    "name": "ipython",
    "version": 2
   },
   "file_extension": ".py",
   "mimetype": "text/x-python",
   "name": "python",
   "nbconvert_exporter": "python",
   "pygments_lexer": "ipython2",
   "version": "2.7.12"
  }
 },
 "nbformat": 4,
 "nbformat_minor": 0
}
