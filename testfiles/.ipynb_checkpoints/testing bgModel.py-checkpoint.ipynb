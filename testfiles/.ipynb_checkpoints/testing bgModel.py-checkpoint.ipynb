{
 "cells": [
  {
   "cell_type": "code",
   "execution_count": 5,
   "metadata": {
    "collapsed": false
   },
   "outputs": [],
   "source": [
    "import os\n"
   ]
  },
  {
   "cell_type": "code",
   "execution_count": 6,
   "metadata": {
    "collapsed": true
   },
   "outputs": [],
   "source": [
    "def revcomplE(word):\n",
    "    revComp=''\n",
    "    transdict={'A':'T','C':'G','G':'C','T':'A'}\n",
    "    index=0\n",
    "    while index <len(word):\n",
    "        if word[index] == 'E' :#if is methylated C\n",
    "            if index <len(word)-1 and word[index+1]=='G': #if G is next to it\n",
    "                revComp += 'GE'\n",
    "                index+=2   \n",
    "            else:\n",
    "                revComp += 'G'\n",
    "                index+=1\n",
    "        else:\n",
    "            try: \n",
    "                revComp += transdict[word[index]]\n",
    "            except KeyError:\n",
    "                revComp += 'N'\n",
    "            index+=1         \n",
    "    return revComp[::-1]\n",
    "\n",
    "def revcomplEF(word):\n",
    "    revComp=''\n",
    "    transdict={'A':'T','C':'G','G':'C','T':'A','E':'F','F':'E'}\n",
    "    index=0\n",
    "    while index <len(word):\n",
    "        try:\n",
    "            revComp += transdict[word[index]]\n",
    "        except KeyError:\n",
    "            revComp += 'N'\n",
    "        index += 1         \n",
    "    return revComp[::-1]"
   ]
  },
  {
   "cell_type": "code",
   "execution_count": 11,
   "metadata": {
    "collapsed": false
   },
   "outputs": [
    {
     "name": "stdout",
     "output_type": "stream",
     "text": [
      "Reading ... chr2\n",
      "Reading ... chr1\n"
     ]
    }
   ],
   "source": [
    "genomedir = \"./samplegenome/\"\n",
    "k = 8\n",
    "typeEF = True\n",
    "\n",
    "kmercounts = {} # \n",
    "total = 0\n",
    "for file in os.listdir(genomedir):\n",
    "    print \"Reading ...\",file\n",
    "    for line in open(genomedir+'/'+file):\n",
    "        if line[0] == \">\": # this is the name, skip\n",
    "            continue\n",
    "        seq = line.strip()\n",
    "        \n",
    "        #count the kmers\n",
    "        for i in range(len(seq) - k):\n",
    "            kmer = seq[i:i+k]\n",
    "            if \"N\" in kmer:\n",
    "                continue\n",
    "            try: \n",
    "                kmercounts[kmer] += 1\n",
    "            except KeyError:\n",
    "                kmercounts[kmer] = 1\n",
    "            total += 1\n",
    "        \n",
    "        \n",
    "        if typeEF: #check if type E or EF\n",
    "            seq = revcomplEF(seq)\n",
    "        else:\n",
    "            seq = revcomplE(seq)\n",
    "        \n",
    "        for i in range(len(seq) - k):\n",
    "            kmer = seq[i:i+k]\n",
    "            if \"N\" in kmer:\n",
    "                continue\n",
    "            try: \n",
    "                kmercounts[kmer] += 1\n",
    "            except KeyError:\n",
    "                kmercounts[kmer] = 1\n",
    "            total += 1\n",
    "           \n",
    "        \n",
    "#output\n",
    "outfile = \"\"\n",
    "if typeEF:\n",
    "    outfile = \"background_typeEF-\"+str(k) +\".tsv\"\n",
    "else:\n",
    "    outfile = \"background_typeE-\"+str(k) +\".tsv\"\n",
    "target = open(outfile,'w')\n",
    "target.write(\"TOTAL\\t\"+str(total)+'\\n')\n",
    "for kmer in kmercounts:\n",
    "    target.write(kmer+'\\t'+str(kmercounts[kmer])+'\\n')\n",
    "target.close()\n",
    "    "
   ]
  },
  {
   "cell_type": "code",
   "execution_count": null,
   "metadata": {
    "collapsed": true
   },
   "outputs": [],
   "source": []
  }
 ],
 "metadata": {
  "kernelspec": {
   "display_name": "Python 2",
   "language": "python",
   "name": "python2"
  },
  "language_info": {
   "codemirror_mode": {
    "name": "ipython",
    "version": 2
   },
   "file_extension": ".py",
   "mimetype": "text/x-python",
   "name": "python",
   "nbconvert_exporter": "python",
   "pygments_lexer": "ipython2",
   "version": "2.7.12"
  }
 },
 "nbformat": 4,
 "nbformat_minor": 0
}
