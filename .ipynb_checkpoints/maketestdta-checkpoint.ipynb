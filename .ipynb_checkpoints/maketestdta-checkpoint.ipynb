{
 "cells": [
  {
   "cell_type": "code",
   "execution_count": 1,
   "metadata": {
    "collapsed": true
   },
   "outputs": [],
   "source": [
    "def readFASTA(faafile):\n",
    "    lines=open(faafile).read().split()\n",
    "    seq=[]\n",
    "    for line in lines:\n",
    "        if \">\" not in line:\n",
    "            seq+=[line.strip()]\n",
    "    seq=''.join(seq)\n",
    "\n",
    "    return seq\n",
    "    \n"
   ]
  },
  {
   "cell_type": "code",
   "execution_count": 2,
   "metadata": {
    "collapsed": true
   },
   "outputs": [],
   "source": [
    "chr1=readFASTA(\"testfiles/samplegenome/chr1\")\n",
    "chr2=readFASTA(\"testfiles/samplegenome/chr2\")"
   ]
  },
  {
   "cell_type": "code",
   "execution_count": 5,
   "metadata": {
    "collapsed": false
   },
   "outputs": [],
   "source": [
    "CGlocs= []\n",
    "for i in range(len(chr1)-1):\n",
    "    if chr1[i].upper() == \"C\" and chr1[i+1].upper()==\"G\":\n",
    "        CGlocs+=[['chr1',i]]\n",
    "for i in range(len(chr2)-1):\n",
    "    if chr2[i].upper() == \"C\" and chr2[i+1].upper()==\"G\":\n",
    "        CGlocs+=[['chr2',i]]"
   ]
  },
  {
   "cell_type": "code",
   "execution_count": null,
   "metadata": {
    "collapsed": true
   },
   "outputs": [],
   "source": []
  }
 ],
 "metadata": {
  "kernelspec": {
   "display_name": "Python 2",
   "language": "python",
   "name": "python2"
  },
  "language_info": {
   "codemirror_mode": {
    "name": "ipython",
    "version": 2
   },
   "file_extension": ".py",
   "mimetype": "text/x-python",
   "name": "python",
   "nbconvert_exporter": "python",
   "pygments_lexer": "ipython2",
   "version": "2.7.13"
  }
 },
 "nbformat": 4,
 "nbformat_minor": 2
}
